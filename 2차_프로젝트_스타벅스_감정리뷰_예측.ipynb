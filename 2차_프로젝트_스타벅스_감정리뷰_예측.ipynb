{
  "nbformat": 4,
  "nbformat_minor": 0,
  "metadata": {
    "colab": {
      "provenance": [],
      "toc_visible": true,
      "authorship_tag": "ABX9TyNOHQw5VpSmImCVZgAzXpir",
      "include_colab_link": true
    },
    "kernelspec": {
      "name": "python3",
      "display_name": "Python 3"
    },
    "language_info": {
      "name": "python"
    }
  },
  "cells": [
    {
      "cell_type": "markdown",
      "metadata": {
        "id": "view-in-github",
        "colab_type": "text"
      },
      "source": [
        "<a href=\"https://colab.research.google.com/github/kyjness/personal/blob/main/2%EC%B0%A8_%ED%94%84%EB%A1%9C%EC%A0%9D%ED%8A%B8_%EC%8A%A4%ED%83%80%EB%B2%85%EC%8A%A4_%EA%B0%90%EC%A0%95%EB%A6%AC%EB%B7%B0_%EC%98%88%EC%B8%A1.ipynb\" target=\"_parent\"><img src=\"https://colab.research.google.com/assets/colab-badge.svg\" alt=\"Open In Colab\"/></a>"
      ]
    },
    {
      "cell_type": "markdown",
      "metadata": {
        "id": "7mAUAgjWABTR"
      },
      "source": [
        "#스타벅스 감정리뷰 예측"
      ]
    },
    {
      "cell_type": "markdown",
      "metadata": {
        "id": "yFd37hQJAGJU"
      },
      "source": [
        "##1) 데이터 로드하기"
      ]
    },
    {
      "cell_type": "code",
      "source": [
        "from google.colab import drive\n",
        "drive.mount('/content/drive')"
      ],
      "metadata": {
        "colab": {
          "base_uri": "https://localhost:8080/"
        },
        "id": "_sbTzMt6jztg",
        "outputId": "1a4b3887-4502-4388-fa98-1c4764734eb2"
      },
      "execution_count": 1,
      "outputs": [
        {
          "output_type": "stream",
          "name": "stdout",
          "text": [
            "Drive already mounted at /content/drive; to attempt to forcibly remount, call drive.mount(\"/content/drive\", force_remount=True).\n"
          ]
        }
      ]
    },
    {
      "cell_type": "code",
      "source": [
        "import pandas as pd"
      ],
      "metadata": {
        "id": "wRh00LwfgYXm"
      },
      "execution_count": 2,
      "outputs": []
    },
    {
      "cell_type": "code",
      "source": [
        "# 리뷰 데이터 로드\n",
        "df= pd.read_csv('/content/drive/MyDrive/쿠글/2차 프로젝트 데이터/reviews_data.csv')\n",
        "df.head(10)"
      ],
      "metadata": {
        "colab": {
          "base_uri": "https://localhost:8080/",
          "height": 363
        },
        "id": "X8KB6GPRjuM9",
        "outputId": "3b22cc25-385c-4f48-d214-d813e4ed01b7"
      },
      "execution_count": 3,
      "outputs": [
        {
          "output_type": "execute_result",
          "data": {
            "text/plain": [
              "       name           location                     Date  Rating  \\\n",
              "0     Helen  Wichita Falls, TX  Reviewed Sept. 13, 2023     5.0   \n",
              "1  Courtney         Apopka, FL   Reviewed July 16, 2023     5.0   \n",
              "2  Daynelle  Cranberry Twp, PA    Reviewed July 5, 2023     5.0   \n",
              "3    Taylor        Seattle, WA    Reviewed May 26, 2023     5.0   \n",
              "4   Tenessa        Gresham, OR   Reviewed Jan. 22, 2023     5.0   \n",
              "5    Alyssa      Sunnyvale, TX  Reviewed Sept. 14, 2023     1.0   \n",
              "6       ken    Spring Hill, FL   Reviewed Sept. 8, 2023     1.0   \n",
              "7     Nikki      Asheville, NC   Reviewed Aug. 25, 2023     1.0   \n",
              "8      Alex   Reisterstown, MD    Reviewed Aug. 5, 2023     1.0   \n",
              "9     Sunny   Zionville, Other    Reviewed Aug. 4, 2023     1.0   \n",
              "\n",
              "                                              Review  \\\n",
              "0  Amber and LaDonna at the Starbucks on Southwes...   \n",
              "1  ** at the Starbucks by the fire station on 436...   \n",
              "2  I just wanted to go out of my way to recognize...   \n",
              "3  Me and my friend were at Starbucks and my card...   \n",
              "4  I’m on this kick of drinking 5 cups of warm wa...   \n",
              "5  We had to correct them on our order 3 times. T...   \n",
              "6  I have tried Starbucks several different times...   \n",
              "7  Starbucks near me just launched new fall foods...   \n",
              "8  I ordered online for the Reisterstown Rd, St T...   \n",
              "9  Staff at the Smythe St. Superstore location in...   \n",
              "\n",
              "                                         Image_Links  \n",
              "0                                      ['No Images']  \n",
              "1                                      ['No Images']  \n",
              "2  ['https://media.consumeraffairs.com/files/cach...  \n",
              "3                                      ['No Images']  \n",
              "4  ['https://media.consumeraffairs.com/files/cach...  \n",
              "5                                      ['No Images']  \n",
              "6                                      ['No Images']  \n",
              "7                                      ['No Images']  \n",
              "8                                      ['No Images']  \n",
              "9                                      ['No Images']  "
            ],
            "text/html": [
              "\n",
              "  <div id=\"df-2a2a17e6-589d-4a88-8365-160f8a229be6\" class=\"colab-df-container\">\n",
              "    <div>\n",
              "<style scoped>\n",
              "    .dataframe tbody tr th:only-of-type {\n",
              "        vertical-align: middle;\n",
              "    }\n",
              "\n",
              "    .dataframe tbody tr th {\n",
              "        vertical-align: top;\n",
              "    }\n",
              "\n",
              "    .dataframe thead th {\n",
              "        text-align: right;\n",
              "    }\n",
              "</style>\n",
              "<table border=\"1\" class=\"dataframe\">\n",
              "  <thead>\n",
              "    <tr style=\"text-align: right;\">\n",
              "      <th></th>\n",
              "      <th>name</th>\n",
              "      <th>location</th>\n",
              "      <th>Date</th>\n",
              "      <th>Rating</th>\n",
              "      <th>Review</th>\n",
              "      <th>Image_Links</th>\n",
              "    </tr>\n",
              "  </thead>\n",
              "  <tbody>\n",
              "    <tr>\n",
              "      <th>0</th>\n",
              "      <td>Helen</td>\n",
              "      <td>Wichita Falls, TX</td>\n",
              "      <td>Reviewed Sept. 13, 2023</td>\n",
              "      <td>5.0</td>\n",
              "      <td>Amber and LaDonna at the Starbucks on Southwes...</td>\n",
              "      <td>['No Images']</td>\n",
              "    </tr>\n",
              "    <tr>\n",
              "      <th>1</th>\n",
              "      <td>Courtney</td>\n",
              "      <td>Apopka, FL</td>\n",
              "      <td>Reviewed July 16, 2023</td>\n",
              "      <td>5.0</td>\n",
              "      <td>** at the Starbucks by the fire station on 436...</td>\n",
              "      <td>['No Images']</td>\n",
              "    </tr>\n",
              "    <tr>\n",
              "      <th>2</th>\n",
              "      <td>Daynelle</td>\n",
              "      <td>Cranberry Twp, PA</td>\n",
              "      <td>Reviewed July 5, 2023</td>\n",
              "      <td>5.0</td>\n",
              "      <td>I just wanted to go out of my way to recognize...</td>\n",
              "      <td>['https://media.consumeraffairs.com/files/cach...</td>\n",
              "    </tr>\n",
              "    <tr>\n",
              "      <th>3</th>\n",
              "      <td>Taylor</td>\n",
              "      <td>Seattle, WA</td>\n",
              "      <td>Reviewed May 26, 2023</td>\n",
              "      <td>5.0</td>\n",
              "      <td>Me and my friend were at Starbucks and my card...</td>\n",
              "      <td>['No Images']</td>\n",
              "    </tr>\n",
              "    <tr>\n",
              "      <th>4</th>\n",
              "      <td>Tenessa</td>\n",
              "      <td>Gresham, OR</td>\n",
              "      <td>Reviewed Jan. 22, 2023</td>\n",
              "      <td>5.0</td>\n",
              "      <td>I’m on this kick of drinking 5 cups of warm wa...</td>\n",
              "      <td>['https://media.consumeraffairs.com/files/cach...</td>\n",
              "    </tr>\n",
              "    <tr>\n",
              "      <th>5</th>\n",
              "      <td>Alyssa</td>\n",
              "      <td>Sunnyvale, TX</td>\n",
              "      <td>Reviewed Sept. 14, 2023</td>\n",
              "      <td>1.0</td>\n",
              "      <td>We had to correct them on our order 3 times. T...</td>\n",
              "      <td>['No Images']</td>\n",
              "    </tr>\n",
              "    <tr>\n",
              "      <th>6</th>\n",
              "      <td>ken</td>\n",
              "      <td>Spring Hill, FL</td>\n",
              "      <td>Reviewed Sept. 8, 2023</td>\n",
              "      <td>1.0</td>\n",
              "      <td>I have tried Starbucks several different times...</td>\n",
              "      <td>['No Images']</td>\n",
              "    </tr>\n",
              "    <tr>\n",
              "      <th>7</th>\n",
              "      <td>Nikki</td>\n",
              "      <td>Asheville, NC</td>\n",
              "      <td>Reviewed Aug. 25, 2023</td>\n",
              "      <td>1.0</td>\n",
              "      <td>Starbucks near me just launched new fall foods...</td>\n",
              "      <td>['No Images']</td>\n",
              "    </tr>\n",
              "    <tr>\n",
              "      <th>8</th>\n",
              "      <td>Alex</td>\n",
              "      <td>Reisterstown, MD</td>\n",
              "      <td>Reviewed Aug. 5, 2023</td>\n",
              "      <td>1.0</td>\n",
              "      <td>I ordered online for the Reisterstown Rd, St T...</td>\n",
              "      <td>['No Images']</td>\n",
              "    </tr>\n",
              "    <tr>\n",
              "      <th>9</th>\n",
              "      <td>Sunny</td>\n",
              "      <td>Zionville, Other</td>\n",
              "      <td>Reviewed Aug. 4, 2023</td>\n",
              "      <td>1.0</td>\n",
              "      <td>Staff at the Smythe St. Superstore location in...</td>\n",
              "      <td>['No Images']</td>\n",
              "    </tr>\n",
              "  </tbody>\n",
              "</table>\n",
              "</div>\n",
              "    <div class=\"colab-df-buttons\">\n",
              "\n",
              "  <div class=\"colab-df-container\">\n",
              "    <button class=\"colab-df-convert\" onclick=\"convertToInteractive('df-2a2a17e6-589d-4a88-8365-160f8a229be6')\"\n",
              "            title=\"Convert this dataframe to an interactive table.\"\n",
              "            style=\"display:none;\">\n",
              "\n",
              "  <svg xmlns=\"http://www.w3.org/2000/svg\" height=\"24px\" viewBox=\"0 -960 960 960\">\n",
              "    <path d=\"M120-120v-720h720v720H120Zm60-500h600v-160H180v160Zm220 220h160v-160H400v160Zm0 220h160v-160H400v160ZM180-400h160v-160H180v160Zm440 0h160v-160H620v160ZM180-180h160v-160H180v160Zm440 0h160v-160H620v160Z\"/>\n",
              "  </svg>\n",
              "    </button>\n",
              "\n",
              "  <style>\n",
              "    .colab-df-container {\n",
              "      display:flex;\n",
              "      gap: 12px;\n",
              "    }\n",
              "\n",
              "    .colab-df-convert {\n",
              "      background-color: #E8F0FE;\n",
              "      border: none;\n",
              "      border-radius: 50%;\n",
              "      cursor: pointer;\n",
              "      display: none;\n",
              "      fill: #1967D2;\n",
              "      height: 32px;\n",
              "      padding: 0 0 0 0;\n",
              "      width: 32px;\n",
              "    }\n",
              "\n",
              "    .colab-df-convert:hover {\n",
              "      background-color: #E2EBFA;\n",
              "      box-shadow: 0px 1px 2px rgba(60, 64, 67, 0.3), 0px 1px 3px 1px rgba(60, 64, 67, 0.15);\n",
              "      fill: #174EA6;\n",
              "    }\n",
              "\n",
              "    .colab-df-buttons div {\n",
              "      margin-bottom: 4px;\n",
              "    }\n",
              "\n",
              "    [theme=dark] .colab-df-convert {\n",
              "      background-color: #3B4455;\n",
              "      fill: #D2E3FC;\n",
              "    }\n",
              "\n",
              "    [theme=dark] .colab-df-convert:hover {\n",
              "      background-color: #434B5C;\n",
              "      box-shadow: 0px 1px 3px 1px rgba(0, 0, 0, 0.15);\n",
              "      filter: drop-shadow(0px 1px 2px rgba(0, 0, 0, 0.3));\n",
              "      fill: #FFFFFF;\n",
              "    }\n",
              "  </style>\n",
              "\n",
              "    <script>\n",
              "      const buttonEl =\n",
              "        document.querySelector('#df-2a2a17e6-589d-4a88-8365-160f8a229be6 button.colab-df-convert');\n",
              "      buttonEl.style.display =\n",
              "        google.colab.kernel.accessAllowed ? 'block' : 'none';\n",
              "\n",
              "      async function convertToInteractive(key) {\n",
              "        const element = document.querySelector('#df-2a2a17e6-589d-4a88-8365-160f8a229be6');\n",
              "        const dataTable =\n",
              "          await google.colab.kernel.invokeFunction('convertToInteractive',\n",
              "                                                    [key], {});\n",
              "        if (!dataTable) return;\n",
              "\n",
              "        const docLinkHtml = 'Like what you see? Visit the ' +\n",
              "          '<a target=\"_blank\" href=https://colab.research.google.com/notebooks/data_table.ipynb>data table notebook</a>'\n",
              "          + ' to learn more about interactive tables.';\n",
              "        element.innerHTML = '';\n",
              "        dataTable['output_type'] = 'display_data';\n",
              "        await google.colab.output.renderOutput(dataTable, element);\n",
              "        const docLink = document.createElement('div');\n",
              "        docLink.innerHTML = docLinkHtml;\n",
              "        element.appendChild(docLink);\n",
              "      }\n",
              "    </script>\n",
              "  </div>\n",
              "\n",
              "\n",
              "<div id=\"df-7ca55cd2-ad39-482a-bfeb-52b1da1bdd7f\">\n",
              "  <button class=\"colab-df-quickchart\" onclick=\"quickchart('df-7ca55cd2-ad39-482a-bfeb-52b1da1bdd7f')\"\n",
              "            title=\"Suggest charts\"\n",
              "            style=\"display:none;\">\n",
              "\n",
              "<svg xmlns=\"http://www.w3.org/2000/svg\" height=\"24px\"viewBox=\"0 0 24 24\"\n",
              "     width=\"24px\">\n",
              "    <g>\n",
              "        <path d=\"M19 3H5c-1.1 0-2 .9-2 2v14c0 1.1.9 2 2 2h14c1.1 0 2-.9 2-2V5c0-1.1-.9-2-2-2zM9 17H7v-7h2v7zm4 0h-2V7h2v10zm4 0h-2v-4h2v4z\"/>\n",
              "    </g>\n",
              "</svg>\n",
              "  </button>\n",
              "\n",
              "<style>\n",
              "  .colab-df-quickchart {\n",
              "      --bg-color: #E8F0FE;\n",
              "      --fill-color: #1967D2;\n",
              "      --hover-bg-color: #E2EBFA;\n",
              "      --hover-fill-color: #174EA6;\n",
              "      --disabled-fill-color: #AAA;\n",
              "      --disabled-bg-color: #DDD;\n",
              "  }\n",
              "\n",
              "  [theme=dark] .colab-df-quickchart {\n",
              "      --bg-color: #3B4455;\n",
              "      --fill-color: #D2E3FC;\n",
              "      --hover-bg-color: #434B5C;\n",
              "      --hover-fill-color: #FFFFFF;\n",
              "      --disabled-bg-color: #3B4455;\n",
              "      --disabled-fill-color: #666;\n",
              "  }\n",
              "\n",
              "  .colab-df-quickchart {\n",
              "    background-color: var(--bg-color);\n",
              "    border: none;\n",
              "    border-radius: 50%;\n",
              "    cursor: pointer;\n",
              "    display: none;\n",
              "    fill: var(--fill-color);\n",
              "    height: 32px;\n",
              "    padding: 0;\n",
              "    width: 32px;\n",
              "  }\n",
              "\n",
              "  .colab-df-quickchart:hover {\n",
              "    background-color: var(--hover-bg-color);\n",
              "    box-shadow: 0 1px 2px rgba(60, 64, 67, 0.3), 0 1px 3px 1px rgba(60, 64, 67, 0.15);\n",
              "    fill: var(--button-hover-fill-color);\n",
              "  }\n",
              "\n",
              "  .colab-df-quickchart-complete:disabled,\n",
              "  .colab-df-quickchart-complete:disabled:hover {\n",
              "    background-color: var(--disabled-bg-color);\n",
              "    fill: var(--disabled-fill-color);\n",
              "    box-shadow: none;\n",
              "  }\n",
              "\n",
              "  .colab-df-spinner {\n",
              "    border: 2px solid var(--fill-color);\n",
              "    border-color: transparent;\n",
              "    border-bottom-color: var(--fill-color);\n",
              "    animation:\n",
              "      spin 1s steps(1) infinite;\n",
              "  }\n",
              "\n",
              "  @keyframes spin {\n",
              "    0% {\n",
              "      border-color: transparent;\n",
              "      border-bottom-color: var(--fill-color);\n",
              "      border-left-color: var(--fill-color);\n",
              "    }\n",
              "    20% {\n",
              "      border-color: transparent;\n",
              "      border-left-color: var(--fill-color);\n",
              "      border-top-color: var(--fill-color);\n",
              "    }\n",
              "    30% {\n",
              "      border-color: transparent;\n",
              "      border-left-color: var(--fill-color);\n",
              "      border-top-color: var(--fill-color);\n",
              "      border-right-color: var(--fill-color);\n",
              "    }\n",
              "    40% {\n",
              "      border-color: transparent;\n",
              "      border-right-color: var(--fill-color);\n",
              "      border-top-color: var(--fill-color);\n",
              "    }\n",
              "    60% {\n",
              "      border-color: transparent;\n",
              "      border-right-color: var(--fill-color);\n",
              "    }\n",
              "    80% {\n",
              "      border-color: transparent;\n",
              "      border-right-color: var(--fill-color);\n",
              "      border-bottom-color: var(--fill-color);\n",
              "    }\n",
              "    90% {\n",
              "      border-color: transparent;\n",
              "      border-bottom-color: var(--fill-color);\n",
              "    }\n",
              "  }\n",
              "</style>\n",
              "\n",
              "  <script>\n",
              "    async function quickchart(key) {\n",
              "      const quickchartButtonEl =\n",
              "        document.querySelector('#' + key + ' button');\n",
              "      quickchartButtonEl.disabled = true;  // To prevent multiple clicks.\n",
              "      quickchartButtonEl.classList.add('colab-df-spinner');\n",
              "      try {\n",
              "        const charts = await google.colab.kernel.invokeFunction(\n",
              "            'suggestCharts', [key], {});\n",
              "      } catch (error) {\n",
              "        console.error('Error during call to suggestCharts:', error);\n",
              "      }\n",
              "      quickchartButtonEl.classList.remove('colab-df-spinner');\n",
              "      quickchartButtonEl.classList.add('colab-df-quickchart-complete');\n",
              "    }\n",
              "    (() => {\n",
              "      let quickchartButtonEl =\n",
              "        document.querySelector('#df-7ca55cd2-ad39-482a-bfeb-52b1da1bdd7f button');\n",
              "      quickchartButtonEl.style.display =\n",
              "        google.colab.kernel.accessAllowed ? 'block' : 'none';\n",
              "    })();\n",
              "  </script>\n",
              "</div>\n",
              "\n",
              "    </div>\n",
              "  </div>\n"
            ],
            "application/vnd.google.colaboratory.intrinsic+json": {
              "type": "dataframe",
              "variable_name": "df",
              "summary": "{\n  \"name\": \"df\",\n  \"rows\": 850,\n  \"fields\": [\n    {\n      \"column\": \"name\",\n      \"properties\": {\n        \"dtype\": \"string\",\n        \"num_unique_values\": 604,\n        \"samples\": [\n          \"M\",\n          \"Pete\",\n          \"Arpana\"\n        ],\n        \"semantic_type\": \"\",\n        \"description\": \"\"\n      }\n    },\n    {\n      \"column\": \"location\",\n      \"properties\": {\n        \"dtype\": \"string\",\n        \"num_unique_values\": 633,\n        \"samples\": [\n          \"Flossmoor, IL\",\n          \"Kamloops, BC\",\n          \"Renton, WA\"\n        ],\n        \"semantic_type\": \"\",\n        \"description\": \"\"\n      }\n    },\n    {\n      \"column\": \"Date\",\n      \"properties\": {\n        \"dtype\": \"string\",\n        \"num_unique_values\": 741,\n        \"samples\": [\n          \"Reviewed Sept. 23, 2020\",\n          \"Reviewed Dec. 7, 2018\",\n          \"Reviewed Oct. 14, 2016\"\n        ],\n        \"semantic_type\": \"\",\n        \"description\": \"\"\n      }\n    },\n    {\n      \"column\": \"Rating\",\n      \"properties\": {\n        \"dtype\": \"number\",\n        \"std\": 1.397671511628008,\n        \"min\": 1.0,\n        \"max\": 5.0,\n        \"num_unique_values\": 5,\n        \"samples\": [\n          1.0,\n          4.0,\n          2.0\n        ],\n        \"semantic_type\": \"\",\n        \"description\": \"\"\n      }\n    },\n    {\n      \"column\": \"Review\",\n      \"properties\": {\n        \"dtype\": \"string\",\n        \"num_unique_values\": 814,\n        \"samples\": [\n          \"I was in the drive thru at the Barranca Ave. West Covina Starbucks yesterday at 3:40pm. I was picking up 3 grande ice tea for coaches at a nearby high school baseball game. I asked to have each ring up separately. I was told that there is a limit of 2 transactions at the drive thru??? Funny, a week earlier I ordered 4 separate orders at the same drive thru without any trouble? The car in front of me had 4 separate transactions as I watched the customer have her phone scanned 4 separate times?\",\n          \"I ordered trente Valencia orange drinks with no ice and she gave me two one half cup fills of drink. When I told her this was not right, she said that is what her manager told her to do. I would have to fill the cup totally full if ice for this drink to go to top of cup. The drinks cost $4.25 and you get a little drink with your ice and cup. Their lemon pound is stale everyday but one out of the week.\",\n          \"This company has earned its popularity by maintaining a great quality business. Starbucks holds a welcoming environment, is widely available, and serves a variety of menu options. Starbucks has a unique, modern style. Starbucks creates a place fitting to the environment, giving them a truly natural and positive vibe. Locals are most likely to feel at home at their surrounding locations. The employees at every location always fit in perfectly as well. The alternative styles and quirky personalities of Starbucks employees make for authentic coffeehouse vibes. \"\n        ],\n        \"semantic_type\": \"\",\n        \"description\": \"\"\n      }\n    },\n    {\n      \"column\": \"Image_Links\",\n      \"properties\": {\n        \"dtype\": \"category\",\n        \"num_unique_values\": 47,\n        \"samples\": [\n          \"['https://media.consumeraffairs.com/files/cache/reviews/starbucks_239350_thumbnail.JPG']\",\n          \"['https://media.consumeraffairs.com/files/cache/reviews/starbucks_59083_thumbnail.jpg', 'https://media.consumeraffairs.com/files/cache/reviews/starbucks_59086_thumbnail.jpg']\",\n          \"['https://media.consumeraffairs.com/files/cache/reviews/starbucks_320005_thumbnail.jpg']\"\n        ],\n        \"semantic_type\": \"\",\n        \"description\": \"\"\n      }\n    }\n  ]\n}"
            }
          },
          "metadata": {},
          "execution_count": 3
        }
      ]
    },
    {
      "cell_type": "code",
      "source": [
        "# 리뷰 텍스트와 평점 추출\n",
        "total_data = df[['Rating', 'Review']]\n",
        "print('전체 리뷰 개수 :',len(total_data)) # 전체 리뷰 개수 출력"
      ],
      "metadata": {
        "colab": {
          "base_uri": "https://localhost:8080/"
        },
        "id": "R7YUvHcUkBRu",
        "outputId": "826e1d3c-64ce-4886-b414-4005270450c0"
      },
      "execution_count": 4,
      "outputs": [
        {
          "output_type": "stream",
          "name": "stdout",
          "text": [
            "전체 리뷰 개수 : 850\n"
          ]
        }
      ]
    },
    {
      "cell_type": "code",
      "execution_count": 5,
      "metadata": {
        "colab": {
          "base_uri": "https://localhost:8080/",
          "height": 206
        },
        "id": "E9FTZrY9AK81",
        "outputId": "251c4cdb-07da-4161-eab8-25e7abbed0f8"
      },
      "outputs": [
        {
          "output_type": "execute_result",
          "data": {
            "text/plain": [
              "   Rating                                             Review\n",
              "0     5.0  Amber and LaDonna at the Starbucks on Southwes...\n",
              "1     5.0  ** at the Starbucks by the fire station on 436...\n",
              "2     5.0  I just wanted to go out of my way to recognize...\n",
              "3     5.0  Me and my friend were at Starbucks and my card...\n",
              "4     5.0  I’m on this kick of drinking 5 cups of warm wa..."
            ],
            "text/html": [
              "\n",
              "  <div id=\"df-deae0918-3d21-4cee-9f94-6b57feaf48bc\" class=\"colab-df-container\">\n",
              "    <div>\n",
              "<style scoped>\n",
              "    .dataframe tbody tr th:only-of-type {\n",
              "        vertical-align: middle;\n",
              "    }\n",
              "\n",
              "    .dataframe tbody tr th {\n",
              "        vertical-align: top;\n",
              "    }\n",
              "\n",
              "    .dataframe thead th {\n",
              "        text-align: right;\n",
              "    }\n",
              "</style>\n",
              "<table border=\"1\" class=\"dataframe\">\n",
              "  <thead>\n",
              "    <tr style=\"text-align: right;\">\n",
              "      <th></th>\n",
              "      <th>Rating</th>\n",
              "      <th>Review</th>\n",
              "    </tr>\n",
              "  </thead>\n",
              "  <tbody>\n",
              "    <tr>\n",
              "      <th>0</th>\n",
              "      <td>5.0</td>\n",
              "      <td>Amber and LaDonna at the Starbucks on Southwes...</td>\n",
              "    </tr>\n",
              "    <tr>\n",
              "      <th>1</th>\n",
              "      <td>5.0</td>\n",
              "      <td>** at the Starbucks by the fire station on 436...</td>\n",
              "    </tr>\n",
              "    <tr>\n",
              "      <th>2</th>\n",
              "      <td>5.0</td>\n",
              "      <td>I just wanted to go out of my way to recognize...</td>\n",
              "    </tr>\n",
              "    <tr>\n",
              "      <th>3</th>\n",
              "      <td>5.0</td>\n",
              "      <td>Me and my friend were at Starbucks and my card...</td>\n",
              "    </tr>\n",
              "    <tr>\n",
              "      <th>4</th>\n",
              "      <td>5.0</td>\n",
              "      <td>I’m on this kick of drinking 5 cups of warm wa...</td>\n",
              "    </tr>\n",
              "  </tbody>\n",
              "</table>\n",
              "</div>\n",
              "    <div class=\"colab-df-buttons\">\n",
              "\n",
              "  <div class=\"colab-df-container\">\n",
              "    <button class=\"colab-df-convert\" onclick=\"convertToInteractive('df-deae0918-3d21-4cee-9f94-6b57feaf48bc')\"\n",
              "            title=\"Convert this dataframe to an interactive table.\"\n",
              "            style=\"display:none;\">\n",
              "\n",
              "  <svg xmlns=\"http://www.w3.org/2000/svg\" height=\"24px\" viewBox=\"0 -960 960 960\">\n",
              "    <path d=\"M120-120v-720h720v720H120Zm60-500h600v-160H180v160Zm220 220h160v-160H400v160Zm0 220h160v-160H400v160ZM180-400h160v-160H180v160Zm440 0h160v-160H620v160ZM180-180h160v-160H180v160Zm440 0h160v-160H620v160Z\"/>\n",
              "  </svg>\n",
              "    </button>\n",
              "\n",
              "  <style>\n",
              "    .colab-df-container {\n",
              "      display:flex;\n",
              "      gap: 12px;\n",
              "    }\n",
              "\n",
              "    .colab-df-convert {\n",
              "      background-color: #E8F0FE;\n",
              "      border: none;\n",
              "      border-radius: 50%;\n",
              "      cursor: pointer;\n",
              "      display: none;\n",
              "      fill: #1967D2;\n",
              "      height: 32px;\n",
              "      padding: 0 0 0 0;\n",
              "      width: 32px;\n",
              "    }\n",
              "\n",
              "    .colab-df-convert:hover {\n",
              "      background-color: #E2EBFA;\n",
              "      box-shadow: 0px 1px 2px rgba(60, 64, 67, 0.3), 0px 1px 3px 1px rgba(60, 64, 67, 0.15);\n",
              "      fill: #174EA6;\n",
              "    }\n",
              "\n",
              "    .colab-df-buttons div {\n",
              "      margin-bottom: 4px;\n",
              "    }\n",
              "\n",
              "    [theme=dark] .colab-df-convert {\n",
              "      background-color: #3B4455;\n",
              "      fill: #D2E3FC;\n",
              "    }\n",
              "\n",
              "    [theme=dark] .colab-df-convert:hover {\n",
              "      background-color: #434B5C;\n",
              "      box-shadow: 0px 1px 3px 1px rgba(0, 0, 0, 0.15);\n",
              "      filter: drop-shadow(0px 1px 2px rgba(0, 0, 0, 0.3));\n",
              "      fill: #FFFFFF;\n",
              "    }\n",
              "  </style>\n",
              "\n",
              "    <script>\n",
              "      const buttonEl =\n",
              "        document.querySelector('#df-deae0918-3d21-4cee-9f94-6b57feaf48bc button.colab-df-convert');\n",
              "      buttonEl.style.display =\n",
              "        google.colab.kernel.accessAllowed ? 'block' : 'none';\n",
              "\n",
              "      async function convertToInteractive(key) {\n",
              "        const element = document.querySelector('#df-deae0918-3d21-4cee-9f94-6b57feaf48bc');\n",
              "        const dataTable =\n",
              "          await google.colab.kernel.invokeFunction('convertToInteractive',\n",
              "                                                    [key], {});\n",
              "        if (!dataTable) return;\n",
              "\n",
              "        const docLinkHtml = 'Like what you see? Visit the ' +\n",
              "          '<a target=\"_blank\" href=https://colab.research.google.com/notebooks/data_table.ipynb>data table notebook</a>'\n",
              "          + ' to learn more about interactive tables.';\n",
              "        element.innerHTML = '';\n",
              "        dataTable['output_type'] = 'display_data';\n",
              "        await google.colab.output.renderOutput(dataTable, element);\n",
              "        const docLink = document.createElement('div');\n",
              "        docLink.innerHTML = docLinkHtml;\n",
              "        element.appendChild(docLink);\n",
              "      }\n",
              "    </script>\n",
              "  </div>\n",
              "\n",
              "\n",
              "<div id=\"df-787690f6-4138-4c35-aa71-9df0bc496c3c\">\n",
              "  <button class=\"colab-df-quickchart\" onclick=\"quickchart('df-787690f6-4138-4c35-aa71-9df0bc496c3c')\"\n",
              "            title=\"Suggest charts\"\n",
              "            style=\"display:none;\">\n",
              "\n",
              "<svg xmlns=\"http://www.w3.org/2000/svg\" height=\"24px\"viewBox=\"0 0 24 24\"\n",
              "     width=\"24px\">\n",
              "    <g>\n",
              "        <path d=\"M19 3H5c-1.1 0-2 .9-2 2v14c0 1.1.9 2 2 2h14c1.1 0 2-.9 2-2V5c0-1.1-.9-2-2-2zM9 17H7v-7h2v7zm4 0h-2V7h2v10zm4 0h-2v-4h2v4z\"/>\n",
              "    </g>\n",
              "</svg>\n",
              "  </button>\n",
              "\n",
              "<style>\n",
              "  .colab-df-quickchart {\n",
              "      --bg-color: #E8F0FE;\n",
              "      --fill-color: #1967D2;\n",
              "      --hover-bg-color: #E2EBFA;\n",
              "      --hover-fill-color: #174EA6;\n",
              "      --disabled-fill-color: #AAA;\n",
              "      --disabled-bg-color: #DDD;\n",
              "  }\n",
              "\n",
              "  [theme=dark] .colab-df-quickchart {\n",
              "      --bg-color: #3B4455;\n",
              "      --fill-color: #D2E3FC;\n",
              "      --hover-bg-color: #434B5C;\n",
              "      --hover-fill-color: #FFFFFF;\n",
              "      --disabled-bg-color: #3B4455;\n",
              "      --disabled-fill-color: #666;\n",
              "  }\n",
              "\n",
              "  .colab-df-quickchart {\n",
              "    background-color: var(--bg-color);\n",
              "    border: none;\n",
              "    border-radius: 50%;\n",
              "    cursor: pointer;\n",
              "    display: none;\n",
              "    fill: var(--fill-color);\n",
              "    height: 32px;\n",
              "    padding: 0;\n",
              "    width: 32px;\n",
              "  }\n",
              "\n",
              "  .colab-df-quickchart:hover {\n",
              "    background-color: var(--hover-bg-color);\n",
              "    box-shadow: 0 1px 2px rgba(60, 64, 67, 0.3), 0 1px 3px 1px rgba(60, 64, 67, 0.15);\n",
              "    fill: var(--button-hover-fill-color);\n",
              "  }\n",
              "\n",
              "  .colab-df-quickchart-complete:disabled,\n",
              "  .colab-df-quickchart-complete:disabled:hover {\n",
              "    background-color: var(--disabled-bg-color);\n",
              "    fill: var(--disabled-fill-color);\n",
              "    box-shadow: none;\n",
              "  }\n",
              "\n",
              "  .colab-df-spinner {\n",
              "    border: 2px solid var(--fill-color);\n",
              "    border-color: transparent;\n",
              "    border-bottom-color: var(--fill-color);\n",
              "    animation:\n",
              "      spin 1s steps(1) infinite;\n",
              "  }\n",
              "\n",
              "  @keyframes spin {\n",
              "    0% {\n",
              "      border-color: transparent;\n",
              "      border-bottom-color: var(--fill-color);\n",
              "      border-left-color: var(--fill-color);\n",
              "    }\n",
              "    20% {\n",
              "      border-color: transparent;\n",
              "      border-left-color: var(--fill-color);\n",
              "      border-top-color: var(--fill-color);\n",
              "    }\n",
              "    30% {\n",
              "      border-color: transparent;\n",
              "      border-left-color: var(--fill-color);\n",
              "      border-top-color: var(--fill-color);\n",
              "      border-right-color: var(--fill-color);\n",
              "    }\n",
              "    40% {\n",
              "      border-color: transparent;\n",
              "      border-right-color: var(--fill-color);\n",
              "      border-top-color: var(--fill-color);\n",
              "    }\n",
              "    60% {\n",
              "      border-color: transparent;\n",
              "      border-right-color: var(--fill-color);\n",
              "    }\n",
              "    80% {\n",
              "      border-color: transparent;\n",
              "      border-right-color: var(--fill-color);\n",
              "      border-bottom-color: var(--fill-color);\n",
              "    }\n",
              "    90% {\n",
              "      border-color: transparent;\n",
              "      border-bottom-color: var(--fill-color);\n",
              "    }\n",
              "  }\n",
              "</style>\n",
              "\n",
              "  <script>\n",
              "    async function quickchart(key) {\n",
              "      const quickchartButtonEl =\n",
              "        document.querySelector('#' + key + ' button');\n",
              "      quickchartButtonEl.disabled = true;  // To prevent multiple clicks.\n",
              "      quickchartButtonEl.classList.add('colab-df-spinner');\n",
              "      try {\n",
              "        const charts = await google.colab.kernel.invokeFunction(\n",
              "            'suggestCharts', [key], {});\n",
              "      } catch (error) {\n",
              "        console.error('Error during call to suggestCharts:', error);\n",
              "      }\n",
              "      quickchartButtonEl.classList.remove('colab-df-spinner');\n",
              "      quickchartButtonEl.classList.add('colab-df-quickchart-complete');\n",
              "    }\n",
              "    (() => {\n",
              "      let quickchartButtonEl =\n",
              "        document.querySelector('#df-787690f6-4138-4c35-aa71-9df0bc496c3c button');\n",
              "      quickchartButtonEl.style.display =\n",
              "        google.colab.kernel.accessAllowed ? 'block' : 'none';\n",
              "    })();\n",
              "  </script>\n",
              "</div>\n",
              "\n",
              "    </div>\n",
              "  </div>\n"
            ],
            "application/vnd.google.colaboratory.intrinsic+json": {
              "type": "dataframe",
              "summary": "{\n  \"name\": \"total_data[:5]\",\n  \"rows\": 5,\n  \"fields\": [\n    {\n      \"column\": \"Rating\",\n      \"properties\": {\n        \"dtype\": \"number\",\n        \"std\": 0.0,\n        \"min\": 5.0,\n        \"max\": 5.0,\n        \"num_unique_values\": 1,\n        \"samples\": [\n          5.0\n        ],\n        \"semantic_type\": \"\",\n        \"description\": \"\"\n      }\n    },\n    {\n      \"column\": \"Review\",\n      \"properties\": {\n        \"dtype\": \"string\",\n        \"num_unique_values\": 5,\n        \"samples\": [\n          \"** at the Starbucks by the fire station on 436 in Altamonte Springs, FL made my day and finally helped me figure out the way to make my drink so I\\u2019d love it. She took time out to talk to me for 2 minutes to make my experience better than what I\\u2019m used to. It was much appreciated! I\\u2019ve had bad experiences one after another at the Starbucks that\\u2019s closest to me in my work building with my drinks not being great along with not great customer service from specific baristas. Niko was refreshing to speak to and pleasant. The drink was perfect! Store 11956\"\n        ],\n        \"semantic_type\": \"\",\n        \"description\": \"\"\n      }\n    }\n  ]\n}"
            }
          },
          "metadata": {},
          "execution_count": 5
        }
      ],
      "source": [
        "total_data[:5]"
      ]
    },
    {
      "cell_type": "markdown",
      "metadata": {
        "id": "p6UlStXaAL9x"
      },
      "source": [
        "##2) 데이터 정제"
      ]
    },
    {
      "cell_type": "code",
      "source": [
        "import numpy as np"
      ],
      "metadata": {
        "id": "XVrYDXDXgeEF"
      },
      "execution_count": 6,
      "outputs": []
    },
    {
      "cell_type": "markdown",
      "source": [
        "label 열 생성"
      ],
      "metadata": {
        "id": "B0zOuJE5ZMql"
      }
    },
    {
      "cell_type": "code",
      "execution_count": 7,
      "metadata": {
        "colab": {
          "base_uri": "https://localhost:8080/",
          "height": 467
        },
        "id": "UU1JQn45AMb6",
        "outputId": "204734b3-44e4-4a67-be03-38d91fc84e5d"
      },
      "outputs": [
        {
          "output_type": "stream",
          "name": "stderr",
          "text": [
            "<ipython-input-7-8f21fca11aff>:1: SettingWithCopyWarning: \n",
            "A value is trying to be set on a copy of a slice from a DataFrame.\n",
            "Try using .loc[row_indexer,col_indexer] = value instead\n",
            "\n",
            "See the caveats in the documentation: https://pandas.pydata.org/pandas-docs/stable/user_guide/indexing.html#returning-a-view-versus-a-copy\n",
            "  total_data['label'] = np.select([total_data.Rating > 3], [1], default=0)\n"
          ]
        },
        {
          "output_type": "execute_result",
          "data": {
            "text/plain": [
              "   Rating                                             Review  label\n",
              "0     5.0  Amber and LaDonna at the Starbucks on Southwes...      1\n",
              "1     5.0  ** at the Starbucks by the fire station on 436...      1\n",
              "2     5.0  I just wanted to go out of my way to recognize...      1\n",
              "3     5.0  Me and my friend were at Starbucks and my card...      1\n",
              "4     5.0  I’m on this kick of drinking 5 cups of warm wa...      1\n",
              "5     1.0  We had to correct them on our order 3 times. T...      0\n",
              "6     1.0  I have tried Starbucks several different times...      0\n",
              "7     1.0  Starbucks near me just launched new fall foods...      0\n",
              "8     1.0  I ordered online for the Reisterstown Rd, St T...      0\n",
              "9     1.0  Staff at the Smythe St. Superstore location in...      0"
            ],
            "text/html": [
              "\n",
              "  <div id=\"df-ce785f43-d908-4a61-a712-0626d3175d07\" class=\"colab-df-container\">\n",
              "    <div>\n",
              "<style scoped>\n",
              "    .dataframe tbody tr th:only-of-type {\n",
              "        vertical-align: middle;\n",
              "    }\n",
              "\n",
              "    .dataframe tbody tr th {\n",
              "        vertical-align: top;\n",
              "    }\n",
              "\n",
              "    .dataframe thead th {\n",
              "        text-align: right;\n",
              "    }\n",
              "</style>\n",
              "<table border=\"1\" class=\"dataframe\">\n",
              "  <thead>\n",
              "    <tr style=\"text-align: right;\">\n",
              "      <th></th>\n",
              "      <th>Rating</th>\n",
              "      <th>Review</th>\n",
              "      <th>label</th>\n",
              "    </tr>\n",
              "  </thead>\n",
              "  <tbody>\n",
              "    <tr>\n",
              "      <th>0</th>\n",
              "      <td>5.0</td>\n",
              "      <td>Amber and LaDonna at the Starbucks on Southwes...</td>\n",
              "      <td>1</td>\n",
              "    </tr>\n",
              "    <tr>\n",
              "      <th>1</th>\n",
              "      <td>5.0</td>\n",
              "      <td>** at the Starbucks by the fire station on 436...</td>\n",
              "      <td>1</td>\n",
              "    </tr>\n",
              "    <tr>\n",
              "      <th>2</th>\n",
              "      <td>5.0</td>\n",
              "      <td>I just wanted to go out of my way to recognize...</td>\n",
              "      <td>1</td>\n",
              "    </tr>\n",
              "    <tr>\n",
              "      <th>3</th>\n",
              "      <td>5.0</td>\n",
              "      <td>Me and my friend were at Starbucks and my card...</td>\n",
              "      <td>1</td>\n",
              "    </tr>\n",
              "    <tr>\n",
              "      <th>4</th>\n",
              "      <td>5.0</td>\n",
              "      <td>I’m on this kick of drinking 5 cups of warm wa...</td>\n",
              "      <td>1</td>\n",
              "    </tr>\n",
              "    <tr>\n",
              "      <th>5</th>\n",
              "      <td>1.0</td>\n",
              "      <td>We had to correct them on our order 3 times. T...</td>\n",
              "      <td>0</td>\n",
              "    </tr>\n",
              "    <tr>\n",
              "      <th>6</th>\n",
              "      <td>1.0</td>\n",
              "      <td>I have tried Starbucks several different times...</td>\n",
              "      <td>0</td>\n",
              "    </tr>\n",
              "    <tr>\n",
              "      <th>7</th>\n",
              "      <td>1.0</td>\n",
              "      <td>Starbucks near me just launched new fall foods...</td>\n",
              "      <td>0</td>\n",
              "    </tr>\n",
              "    <tr>\n",
              "      <th>8</th>\n",
              "      <td>1.0</td>\n",
              "      <td>I ordered online for the Reisterstown Rd, St T...</td>\n",
              "      <td>0</td>\n",
              "    </tr>\n",
              "    <tr>\n",
              "      <th>9</th>\n",
              "      <td>1.0</td>\n",
              "      <td>Staff at the Smythe St. Superstore location in...</td>\n",
              "      <td>0</td>\n",
              "    </tr>\n",
              "  </tbody>\n",
              "</table>\n",
              "</div>\n",
              "    <div class=\"colab-df-buttons\">\n",
              "\n",
              "  <div class=\"colab-df-container\">\n",
              "    <button class=\"colab-df-convert\" onclick=\"convertToInteractive('df-ce785f43-d908-4a61-a712-0626d3175d07')\"\n",
              "            title=\"Convert this dataframe to an interactive table.\"\n",
              "            style=\"display:none;\">\n",
              "\n",
              "  <svg xmlns=\"http://www.w3.org/2000/svg\" height=\"24px\" viewBox=\"0 -960 960 960\">\n",
              "    <path d=\"M120-120v-720h720v720H120Zm60-500h600v-160H180v160Zm220 220h160v-160H400v160Zm0 220h160v-160H400v160ZM180-400h160v-160H180v160Zm440 0h160v-160H620v160ZM180-180h160v-160H180v160Zm440 0h160v-160H620v160Z\"/>\n",
              "  </svg>\n",
              "    </button>\n",
              "\n",
              "  <style>\n",
              "    .colab-df-container {\n",
              "      display:flex;\n",
              "      gap: 12px;\n",
              "    }\n",
              "\n",
              "    .colab-df-convert {\n",
              "      background-color: #E8F0FE;\n",
              "      border: none;\n",
              "      border-radius: 50%;\n",
              "      cursor: pointer;\n",
              "      display: none;\n",
              "      fill: #1967D2;\n",
              "      height: 32px;\n",
              "      padding: 0 0 0 0;\n",
              "      width: 32px;\n",
              "    }\n",
              "\n",
              "    .colab-df-convert:hover {\n",
              "      background-color: #E2EBFA;\n",
              "      box-shadow: 0px 1px 2px rgba(60, 64, 67, 0.3), 0px 1px 3px 1px rgba(60, 64, 67, 0.15);\n",
              "      fill: #174EA6;\n",
              "    }\n",
              "\n",
              "    .colab-df-buttons div {\n",
              "      margin-bottom: 4px;\n",
              "    }\n",
              "\n",
              "    [theme=dark] .colab-df-convert {\n",
              "      background-color: #3B4455;\n",
              "      fill: #D2E3FC;\n",
              "    }\n",
              "\n",
              "    [theme=dark] .colab-df-convert:hover {\n",
              "      background-color: #434B5C;\n",
              "      box-shadow: 0px 1px 3px 1px rgba(0, 0, 0, 0.15);\n",
              "      filter: drop-shadow(0px 1px 2px rgba(0, 0, 0, 0.3));\n",
              "      fill: #FFFFFF;\n",
              "    }\n",
              "  </style>\n",
              "\n",
              "    <script>\n",
              "      const buttonEl =\n",
              "        document.querySelector('#df-ce785f43-d908-4a61-a712-0626d3175d07 button.colab-df-convert');\n",
              "      buttonEl.style.display =\n",
              "        google.colab.kernel.accessAllowed ? 'block' : 'none';\n",
              "\n",
              "      async function convertToInteractive(key) {\n",
              "        const element = document.querySelector('#df-ce785f43-d908-4a61-a712-0626d3175d07');\n",
              "        const dataTable =\n",
              "          await google.colab.kernel.invokeFunction('convertToInteractive',\n",
              "                                                    [key], {});\n",
              "        if (!dataTable) return;\n",
              "\n",
              "        const docLinkHtml = 'Like what you see? Visit the ' +\n",
              "          '<a target=\"_blank\" href=https://colab.research.google.com/notebooks/data_table.ipynb>data table notebook</a>'\n",
              "          + ' to learn more about interactive tables.';\n",
              "        element.innerHTML = '';\n",
              "        dataTable['output_type'] = 'display_data';\n",
              "        await google.colab.output.renderOutput(dataTable, element);\n",
              "        const docLink = document.createElement('div');\n",
              "        docLink.innerHTML = docLinkHtml;\n",
              "        element.appendChild(docLink);\n",
              "      }\n",
              "    </script>\n",
              "  </div>\n",
              "\n",
              "\n",
              "<div id=\"df-fb8580c7-cd82-46ed-a668-959bc56472f6\">\n",
              "  <button class=\"colab-df-quickchart\" onclick=\"quickchart('df-fb8580c7-cd82-46ed-a668-959bc56472f6')\"\n",
              "            title=\"Suggest charts\"\n",
              "            style=\"display:none;\">\n",
              "\n",
              "<svg xmlns=\"http://www.w3.org/2000/svg\" height=\"24px\"viewBox=\"0 0 24 24\"\n",
              "     width=\"24px\">\n",
              "    <g>\n",
              "        <path d=\"M19 3H5c-1.1 0-2 .9-2 2v14c0 1.1.9 2 2 2h14c1.1 0 2-.9 2-2V5c0-1.1-.9-2-2-2zM9 17H7v-7h2v7zm4 0h-2V7h2v10zm4 0h-2v-4h2v4z\"/>\n",
              "    </g>\n",
              "</svg>\n",
              "  </button>\n",
              "\n",
              "<style>\n",
              "  .colab-df-quickchart {\n",
              "      --bg-color: #E8F0FE;\n",
              "      --fill-color: #1967D2;\n",
              "      --hover-bg-color: #E2EBFA;\n",
              "      --hover-fill-color: #174EA6;\n",
              "      --disabled-fill-color: #AAA;\n",
              "      --disabled-bg-color: #DDD;\n",
              "  }\n",
              "\n",
              "  [theme=dark] .colab-df-quickchart {\n",
              "      --bg-color: #3B4455;\n",
              "      --fill-color: #D2E3FC;\n",
              "      --hover-bg-color: #434B5C;\n",
              "      --hover-fill-color: #FFFFFF;\n",
              "      --disabled-bg-color: #3B4455;\n",
              "      --disabled-fill-color: #666;\n",
              "  }\n",
              "\n",
              "  .colab-df-quickchart {\n",
              "    background-color: var(--bg-color);\n",
              "    border: none;\n",
              "    border-radius: 50%;\n",
              "    cursor: pointer;\n",
              "    display: none;\n",
              "    fill: var(--fill-color);\n",
              "    height: 32px;\n",
              "    padding: 0;\n",
              "    width: 32px;\n",
              "  }\n",
              "\n",
              "  .colab-df-quickchart:hover {\n",
              "    background-color: var(--hover-bg-color);\n",
              "    box-shadow: 0 1px 2px rgba(60, 64, 67, 0.3), 0 1px 3px 1px rgba(60, 64, 67, 0.15);\n",
              "    fill: var(--button-hover-fill-color);\n",
              "  }\n",
              "\n",
              "  .colab-df-quickchart-complete:disabled,\n",
              "  .colab-df-quickchart-complete:disabled:hover {\n",
              "    background-color: var(--disabled-bg-color);\n",
              "    fill: var(--disabled-fill-color);\n",
              "    box-shadow: none;\n",
              "  }\n",
              "\n",
              "  .colab-df-spinner {\n",
              "    border: 2px solid var(--fill-color);\n",
              "    border-color: transparent;\n",
              "    border-bottom-color: var(--fill-color);\n",
              "    animation:\n",
              "      spin 1s steps(1) infinite;\n",
              "  }\n",
              "\n",
              "  @keyframes spin {\n",
              "    0% {\n",
              "      border-color: transparent;\n",
              "      border-bottom-color: var(--fill-color);\n",
              "      border-left-color: var(--fill-color);\n",
              "    }\n",
              "    20% {\n",
              "      border-color: transparent;\n",
              "      border-left-color: var(--fill-color);\n",
              "      border-top-color: var(--fill-color);\n",
              "    }\n",
              "    30% {\n",
              "      border-color: transparent;\n",
              "      border-left-color: var(--fill-color);\n",
              "      border-top-color: var(--fill-color);\n",
              "      border-right-color: var(--fill-color);\n",
              "    }\n",
              "    40% {\n",
              "      border-color: transparent;\n",
              "      border-right-color: var(--fill-color);\n",
              "      border-top-color: var(--fill-color);\n",
              "    }\n",
              "    60% {\n",
              "      border-color: transparent;\n",
              "      border-right-color: var(--fill-color);\n",
              "    }\n",
              "    80% {\n",
              "      border-color: transparent;\n",
              "      border-right-color: var(--fill-color);\n",
              "      border-bottom-color: var(--fill-color);\n",
              "    }\n",
              "    90% {\n",
              "      border-color: transparent;\n",
              "      border-bottom-color: var(--fill-color);\n",
              "    }\n",
              "  }\n",
              "</style>\n",
              "\n",
              "  <script>\n",
              "    async function quickchart(key) {\n",
              "      const quickchartButtonEl =\n",
              "        document.querySelector('#' + key + ' button');\n",
              "      quickchartButtonEl.disabled = true;  // To prevent multiple clicks.\n",
              "      quickchartButtonEl.classList.add('colab-df-spinner');\n",
              "      try {\n",
              "        const charts = await google.colab.kernel.invokeFunction(\n",
              "            'suggestCharts', [key], {});\n",
              "      } catch (error) {\n",
              "        console.error('Error during call to suggestCharts:', error);\n",
              "      }\n",
              "      quickchartButtonEl.classList.remove('colab-df-spinner');\n",
              "      quickchartButtonEl.classList.add('colab-df-quickchart-complete');\n",
              "    }\n",
              "    (() => {\n",
              "      let quickchartButtonEl =\n",
              "        document.querySelector('#df-fb8580c7-cd82-46ed-a668-959bc56472f6 button');\n",
              "      quickchartButtonEl.style.display =\n",
              "        google.colab.kernel.accessAllowed ? 'block' : 'none';\n",
              "    })();\n",
              "  </script>\n",
              "</div>\n",
              "\n",
              "    </div>\n",
              "  </div>\n"
            ],
            "application/vnd.google.colaboratory.intrinsic+json": {
              "type": "dataframe",
              "summary": "{\n  \"name\": \"total_data[:10]\",\n  \"rows\": 10,\n  \"fields\": [\n    {\n      \"column\": \"Rating\",\n      \"properties\": {\n        \"dtype\": \"number\",\n        \"std\": 2.1081851067789197,\n        \"min\": 1.0,\n        \"max\": 5.0,\n        \"num_unique_values\": 2,\n        \"samples\": [\n          1.0,\n          5.0\n        ],\n        \"semantic_type\": \"\",\n        \"description\": \"\"\n      }\n    },\n    {\n      \"column\": \"Review\",\n      \"properties\": {\n        \"dtype\": \"string\",\n        \"num_unique_values\": 10,\n        \"samples\": [\n          \"I ordered online for the Reisterstown Rd, St Thomas SC 99000 and they gave me the wrong drink size so ordered a venti they gave me a grande. Just a bit upset that I paid over 5 bucks for a drink and got the wrong thing.\",\n          \"** at the Starbucks by the fire station on 436 in Altamonte Springs, FL made my day and finally helped me figure out the way to make my drink so I\\u2019d love it. She took time out to talk to me for 2 minutes to make my experience better than what I\\u2019m used to. It was much appreciated! I\\u2019ve had bad experiences one after another at the Starbucks that\\u2019s closest to me in my work building with my drinks not being great along with not great customer service from specific baristas. Niko was refreshing to speak to and pleasant. The drink was perfect! Store 11956\"\n        ],\n        \"semantic_type\": \"\",\n        \"description\": \"\"\n      }\n    },\n    {\n      \"column\": \"label\",\n      \"properties\": {\n        \"dtype\": \"number\",\n        \"std\": 0,\n        \"min\": 0,\n        \"max\": 1,\n        \"num_unique_values\": 2,\n        \"samples\": [\n          0,\n          1\n        ],\n        \"semantic_type\": \"\",\n        \"description\": \"\"\n      }\n    }\n  ]\n}"
            }
          },
          "metadata": {},
          "execution_count": 7
        }
      ],
      "source": [
        "total_data['label'] = np.select([total_data.Rating > 3], [1], default=0)\n",
        "total_data[:10]"
      ]
    },
    {
      "cell_type": "code",
      "execution_count": 8,
      "metadata": {
        "colab": {
          "base_uri": "https://localhost:8080/"
        },
        "id": "E3mcLMMhAOvt",
        "outputId": "019f4e1c-9018-4ad0-9dfd-06f74bf9a199"
      },
      "outputs": [
        {
          "output_type": "execute_result",
          "data": {
            "text/plain": [
              "(5, 814, 2)"
            ]
          },
          "metadata": {},
          "execution_count": 8
        }
      ],
      "source": [
        "total_data['Rating'].nunique(), total_data['Review'].nunique(), total_data['label'].nunique()"
      ]
    },
    {
      "cell_type": "markdown",
      "source": [
        "중복 제거"
      ],
      "metadata": {
        "id": "gmO-cZ_kZRhF"
      }
    },
    {
      "cell_type": "code",
      "execution_count": 9,
      "metadata": {
        "colab": {
          "base_uri": "https://localhost:8080/"
        },
        "id": "BdaGvpc4AQVx",
        "outputId": "4a6b07b7-1e73-4f1b-8b88-5de39698bf18"
      },
      "outputs": [
        {
          "output_type": "stream",
          "name": "stdout",
          "text": [
            "총 샘플의 수 : 814\n"
          ]
        },
        {
          "output_type": "stream",
          "name": "stderr",
          "text": [
            "<ipython-input-9-e0153c3b132b>:1: SettingWithCopyWarning: \n",
            "A value is trying to be set on a copy of a slice from a DataFrame\n",
            "\n",
            "See the caveats in the documentation: https://pandas.pydata.org/pandas-docs/stable/user_guide/indexing.html#returning-a-view-versus-a-copy\n",
            "  total_data.drop_duplicates(subset=['Review'], inplace=True) # reviews 열에서 중복인 내용이 있다면 중복 제거\n"
          ]
        }
      ],
      "source": [
        "total_data.drop_duplicates(subset=['Review'], inplace=True) # reviews 열에서 중복인 내용이 있다면 중복 제거\n",
        "print('총 샘플의 수 :',len(total_data))"
      ]
    },
    {
      "cell_type": "markdown",
      "source": [
        "null값 제거"
      ],
      "metadata": {
        "id": "ZoEljtFQZU66"
      }
    },
    {
      "cell_type": "code",
      "source": [
        "total_data.dropna(inplace=True) #null값 제거\n",
        "print('총 샘플의 수 :',len(total_data))"
      ],
      "metadata": {
        "colab": {
          "base_uri": "https://localhost:8080/"
        },
        "id": "Lzd7IxCVladP",
        "outputId": "8a90fa5d-d9fd-46ea-9f21-2b2276675010"
      },
      "execution_count": 10,
      "outputs": [
        {
          "output_type": "stream",
          "name": "stdout",
          "text": [
            "총 샘플의 수 : 704\n"
          ]
        },
        {
          "output_type": "stream",
          "name": "stderr",
          "text": [
            "<ipython-input-10-b6010885721f>:1: SettingWithCopyWarning: \n",
            "A value is trying to be set on a copy of a slice from a DataFrame\n",
            "\n",
            "See the caveats in the documentation: https://pandas.pydata.org/pandas-docs/stable/user_guide/indexing.html#returning-a-view-versus-a-copy\n",
            "  total_data.dropna(inplace=True) #null값 제거\n"
          ]
        }
      ]
    },
    {
      "cell_type": "markdown",
      "source": [
        "train,test 데이터 나누기"
      ],
      "metadata": {
        "id": "ec_THpjzg6su"
      }
    },
    {
      "cell_type": "code",
      "source": [
        "from sklearn.model_selection import train_test_split"
      ],
      "metadata": {
        "id": "aevQen0Bg-At"
      },
      "execution_count": 12,
      "outputs": []
    },
    {
      "cell_type": "code",
      "execution_count": 13,
      "metadata": {
        "colab": {
          "base_uri": "https://localhost:8080/"
        },
        "id": "jng448FxAStR",
        "outputId": "52cfc35a-43fe-4c62-f9e8-8bfe07ea861b"
      },
      "outputs": [
        {
          "output_type": "stream",
          "name": "stdout",
          "text": [
            "훈련용 리뷰의 개수 : 528\n",
            "테스트용 리뷰의 개수 : 176\n"
          ]
        }
      ],
      "source": [
        "train_data, test_data = train_test_split(total_data, test_size = 0.25, random_state = 42)\n",
        "print('훈련용 리뷰의 개수 :', len(train_data))\n",
        "print('테스트용 리뷰의 개수 :', len(test_data))"
      ]
    },
    {
      "cell_type": "markdown",
      "metadata": {
        "id": "9oVO_LPpAT8I"
      },
      "source": [
        "레이블의 분포 확인"
      ]
    },
    {
      "cell_type": "code",
      "execution_count": 14,
      "metadata": {
        "colab": {
          "base_uri": "https://localhost:8080/",
          "height": 461
        },
        "id": "OfdLFHrcAUaY",
        "outputId": "f04c7308-8a89-4c31-a4ed-3aa3d68201bf"
      },
      "outputs": [
        {
          "output_type": "execute_result",
          "data": {
            "text/plain": [
              "<Axes: xlabel='label'>"
            ]
          },
          "metadata": {},
          "execution_count": 14
        },
        {
          "output_type": "display_data",
          "data": {
            "text/plain": [
              "<Figure size 640x480 with 1 Axes>"
            ],
            "image/png": "[encoded data removed]"
          },
          "metadata": {}
        }
      ],
      "source": [
        "train_data['label'].value_counts().plot(kind = 'bar')"
      ]
    },
    {
      "cell_type": "code",
      "execution_count": 15,
      "metadata": {
        "colab": {
          "base_uri": "https://localhost:8080/"
        },
        "id": "vpN0CHkgAXf_",
        "outputId": "662f2bb9-90f7-4339-8683-647090fa07df"
      },
      "outputs": [
        {
          "output_type": "stream",
          "name": "stdout",
          "text": [
            "   label  count\n",
            "0      0    440\n",
            "1      1     88\n"
          ]
        }
      ],
      "source": [
        "print(train_data.groupby('label').size().reset_index(name = 'count'))"
      ]
    },
    {
      "cell_type": "markdown",
      "metadata": {
        "id": "YbB2Yu3BAZuS"
      },
      "source": [
        "영어와 공백을 제외하고 모두 제거"
      ]
    },
    {
      "cell_type": "code",
      "execution_count": 16,
      "metadata": {
        "colab": {
          "base_uri": "https://localhost:8080/"
        },
        "id": "DCBC1hTzAaFw",
        "outputId": "25b96a86-1ec0-4e1b-8cd6-8ec4ef766514"
      },
      "outputs": [
        {
          "output_type": "stream",
          "name": "stdout",
          "text": [
            "Rating    0\n",
            "Review    0\n",
            "label     0\n",
            "dtype: int64\n",
            "전처리 후 테스트용 샘플의 개수 : 528\n"
          ]
        },
        {
          "output_type": "stream",
          "name": "stderr",
          "text": [
            "<ipython-input-16-96305158ff2c>:3: FutureWarning: A value is trying to be set on a copy of a DataFrame or Series through chained assignment using an inplace method.\n",
            "The behavior will change in pandas 3.0. This inplace method will never work because the intermediate object on which we are setting values always behaves as a copy.\n",
            "\n",
            "For example, when doing 'df[col].method(value, inplace=True)', try using 'df.method({col: value}, inplace=True)' or df[col] = df[col].method(value) instead, to perform the operation inplace on the original object.\n",
            "\n",
            "\n",
            "  train_data['Review'].replace('', np.nan, inplace=True)  # 공백은 Null 값으로 변경\n"
          ]
        }
      ],
      "source": [
        "#영어와 공백을 제외하고 모두 제거\n",
        "train_data['Review'] = train_data['Review'].str.replace(\"[^a-zA-Z ]\", \"\", regex=True)\n",
        "train_data['Review'].replace('', np.nan, inplace=True)  # 공백은 Null 값으로 변경\n",
        "print(train_data.isnull().sum())\n",
        "print('전처리 후 테스트용 샘플의 개수 :',len(train_data))"
      ]
    },
    {
      "cell_type": "code",
      "execution_count": 17,
      "metadata": {
        "colab": {
          "base_uri": "https://localhost:8080/"
        },
        "id": "NjvezcBnAbUm",
        "outputId": "f8b42e7a-39df-4cd1-863a-26ca1b48e06c"
      },
      "outputs": [
        {
          "output_type": "stream",
          "name": "stdout",
          "text": [
            "Rating    0\n",
            "Review    0\n",
            "label     0\n",
            "dtype: int64\n",
            "전처리 후 테스트용 샘플의 개수 : 176\n"
          ]
        },
        {
          "output_type": "stream",
          "name": "stderr",
          "text": [
            "<ipython-input-17-92ed7059d24f>:2: FutureWarning: A value is trying to be set on a copy of a DataFrame or Series through chained assignment using an inplace method.\n",
            "The behavior will change in pandas 3.0. This inplace method will never work because the intermediate object on which we are setting values always behaves as a copy.\n",
            "\n",
            "For example, when doing 'df[col].method(value, inplace=True)', try using 'df.method({col: value}, inplace=True)' or df[col] = df[col].method(value) instead, to perform the operation inplace on the original object.\n",
            "\n",
            "\n",
            "  test_data['Review'].replace('', np.nan, inplace=True)\n"
          ]
        }
      ],
      "source": [
        "test_data['Review'] = test_data['Review'].str.replace(\"[^a-zA-Z ]\",\"\", regex=True)\n",
        "test_data['Review'].replace('', np.nan, inplace=True)\n",
        "print(test_data.isnull().sum())\n",
        "print('전처리 후 테스트용 샘플의 개수 :',len(test_data))"
      ]
    },
    {
      "cell_type": "markdown",
      "metadata": {
        "id": "Mqqka6p4AdVi"
      },
      "source": [
        "##3) 토큰화"
      ]
    },
    {
      "cell_type": "markdown",
      "source": [
        "spaCy:자연어 처리를 위한 Python 기반 라이브러리로, 빠르고 효율적인 NLP 작업을 지원"
      ],
      "metadata": {
        "id": "dY_ENxveaNsD"
      }
    },
    {
      "cell_type": "markdown",
      "source": [],
      "metadata": {
        "id": "NWX2LsepaPku"
      }
    },
    {
      "cell_type": "code",
      "source": [
        "!pip install spacy\n",
        "!python -m spacy download en_core_web_sm"
      ],
      "metadata": {
        "colab": {
          "base_uri": "https://localhost:8080/"
        },
        "id": "oseK3wrJav7k",
        "outputId": "da3274dc-7a65-497e-bf10-cbcbd182581e"
      },
      "execution_count": 18,
      "outputs": [
        {
          "output_type": "stream",
          "name": "stdout",
          "text": [
            "Requirement already satisfied: spacy in /usr/local/lib/python3.10/dist-packages (3.7.5)\n",
            "Requirement already satisfied: spacy-legacy<3.1.0,>=3.0.11 in /usr/local/lib/python3.10/dist-packages (from spacy) (3.0.12)\n",
            "Requirement already satisfied: spacy-loggers<2.0.0,>=1.0.0 in /usr/local/lib/python3.10/dist-packages (from spacy) (1.0.5)\n",
            "Requirement already satisfied: murmurhash<1.1.0,>=0.28.0 in /usr/local/lib/python3.10/dist-packages (from spacy) (1.0.10)\n",
            "Requirement already satisfied: cymem<2.1.0,>=2.0.2 in /usr/local/lib/python3.10/dist-packages (from spacy) (2.0.8)\n",
            "Requirement already satisfied: preshed<3.1.0,>=3.0.2 in /usr/local/lib/python3.10/dist-packages (from spacy) (3.0.9)\n",
            "Requirement already satisfied: thinc<8.3.0,>=8.2.2 in /usr/local/lib/python3.10/dist-packages (from spacy) (8.2.5)\n",
            "Requirement already satisfied: wasabi<1.2.0,>=0.9.1 in /usr/local/lib/python3.10/dist-packages (from spacy) (1.1.3)\n",
            "Requirement already satisfied: srsly<3.0.0,>=2.4.3 in /usr/local/lib/python3.10/dist-packages (from spacy) (2.4.8)\n",
            "Requirement already satisfied: catalogue<2.1.0,>=2.0.6 in /usr/local/lib/python3.10/dist-packages (from spacy) (2.0.10)\n",
            "Requirement already satisfied: weasel<0.5.0,>=0.1.0 in /usr/local/lib/python3.10/dist-packages (from spacy) (0.4.1)\n",
            "Requirement already satisfied: typer<1.0.0,>=0.3.0 in /usr/local/lib/python3.10/dist-packages (from spacy) (0.13.0)\n",
            "Requirement already satisfied: tqdm<5.0.0,>=4.38.0 in /usr/local/lib/python3.10/dist-packages (from spacy) (4.66.6)\n",
            "Requirement already satisfied: requests<3.0.0,>=2.13.0 in /usr/local/lib/python3.10/dist-packages (from spacy) (2.32.3)\n",
            "Requirement already satisfied: pydantic!=1.8,!=1.8.1,<3.0.0,>=1.7.4 in /usr/local/lib/python3.10/dist-packages (from spacy) (2.9.2)\n",
            "Requirement already satisfied: jinja2 in /usr/local/lib/python3.10/dist-packages (from spacy) (3.1.4)\n",
            "Requirement already satisfied: setuptools in /usr/local/lib/python3.10/dist-packages (from spacy) (75.1.0)\n",
            "Requirement already satisfied: packaging>=20.0 in /usr/local/lib/python3.10/dist-packages (from spacy) (24.2)\n",
            "Requirement already satisfied: langcodes<4.0.0,>=3.2.0 in /usr/local/lib/python3.10/dist-packages (from spacy) (3.4.1)\n",
            "Requirement already satisfied: numpy>=1.19.0 in /usr/local/lib/python3.10/dist-packages (from spacy) (1.26.4)\n",
            "Requirement already satisfied: language-data>=1.2 in /usr/local/lib/python3.10/dist-packages (from langcodes<4.0.0,>=3.2.0->spacy) (1.2.0)\n",
            "Requirement already satisfied: annotated-types>=0.6.0 in /usr/local/lib/python3.10/dist-packages (from pydantic!=1.8,!=1.8.1,<3.0.0,>=1.7.4->spacy) (0.7.0)\n",
            "Requirement already satisfied: pydantic-core==2.23.4 in /usr/local/lib/python3.10/dist-packages (from pydantic!=1.8,!=1.8.1,<3.0.0,>=1.7.4->spacy) (2.23.4)\n",
            "Requirement already satisfied: typing-extensions>=4.6.1 in /usr/local/lib/python3.10/dist-packages (from pydantic!=1.8,!=1.8.1,<3.0.0,>=1.7.4->spacy) (4.12.2)\n",
            "Requirement already satisfied: charset-normalizer<4,>=2 in /usr/local/lib/python3.10/dist-packages (from requests<3.0.0,>=2.13.0->spacy) (3.4.0)\n",
            "Requirement already satisfied: idna<4,>=2.5 in /usr/local/lib/python3.10/dist-packages (from requests<3.0.0,>=2.13.0->spacy) (3.10)\n",
            "Requirement already satisfied: urllib3<3,>=1.21.1 in /usr/local/lib/python3.10/dist-packages (from requests<3.0.0,>=2.13.0->spacy) (2.2.3)\n",
            "Requirement already satisfied: certifi>=2017.4.17 in /usr/local/lib/python3.10/dist-packages (from requests<3.0.0,>=2.13.0->spacy) (2024.8.30)\n",
            "Requirement already satisfied: blis<0.8.0,>=0.7.8 in /usr/local/lib/python3.10/dist-packages (from thinc<8.3.0,>=8.2.2->spacy) (0.7.11)\n",
            "Requirement already satisfied: confection<1.0.0,>=0.0.1 in /usr/local/lib/python3.10/dist-packages (from thinc<8.3.0,>=8.2.2->spacy) (0.1.5)\n",
            "Requirement already satisfied: click>=8.0.0 in /usr/local/lib/python3.10/dist-packages (from typer<1.0.0,>=0.3.0->spacy) (8.1.7)\n",
            "Requirement already satisfied: shellingham>=1.3.0 in /usr/local/lib/python3.10/dist-packages (from typer<1.0.0,>=0.3.0->spacy) (1.5.4)\n",
            "Requirement already satisfied: rich>=10.11.0 in /usr/local/lib/python3.10/dist-packages (from typer<1.0.0,>=0.3.0->spacy) (13.9.4)\n",
            "Requirement already satisfied: cloudpathlib<1.0.0,>=0.7.0 in /usr/local/lib/python3.10/dist-packages (from weasel<0.5.0,>=0.1.0->spacy) (0.20.0)\n",
            "Requirement already satisfied: smart-open<8.0.0,>=5.2.1 in /usr/local/lib/python3.10/dist-packages (from weasel<0.5.0,>=0.1.0->spacy) (7.0.5)\n",
            "Requirement already satisfied: MarkupSafe>=2.0 in /usr/local/lib/python3.10/dist-packages (from jinja2->spacy) (3.0.2)\n",
            "Requirement already satisfied: marisa-trie>=0.7.7 in /usr/local/lib/python3.10/dist-packages (from language-data>=1.2->langcodes<4.0.0,>=3.2.0->spacy) (1.2.1)\n",
            "Requirement already satisfied: markdown-it-py>=2.2.0 in /usr/local/lib/python3.10/dist-packages (from rich>=10.11.0->typer<1.0.0,>=0.3.0->spacy) (3.0.0)\n",
            "Requirement already satisfied: pygments<3.0.0,>=2.13.0 in /usr/local/lib/python3.10/dist-packages (from rich>=10.11.0->typer<1.0.0,>=0.3.0->spacy) (2.18.0)\n",
            "Requirement already satisfied: wrapt in /usr/local/lib/python3.10/dist-packages (from smart-open<8.0.0,>=5.2.1->weasel<0.5.0,>=0.1.0->spacy) (1.16.0)\n",
            "Requirement already satisfied: mdurl~=0.1 in /usr/local/lib/python3.10/dist-packages (from markdown-it-py>=2.2.0->rich>=10.11.0->typer<1.0.0,>=0.3.0->spacy) (0.1.2)\n",
            "Collecting en-core-web-sm==3.7.1\n",
            "  Downloading https://github.com/explosion/spacy-models/releases/download/en_core_web_sm-3.7.1/en_core_web_sm-3.7.1-py3-none-any.whl (12.8 MB)\n",
            "\u001b[2K     \u001b[90m━━━━━━━━━━━━━━━━━━━━━━━━━━━━━━━━━━━━━━━━\u001b[0m \u001b[32m12.8/12.8 MB\u001b[0m \u001b[31m81.9 MB/s\u001b[0m eta \u001b[36m0:00:00\u001b[0m\n",
            "\u001b[?25hRequirement already satisfied: spacy<3.8.0,>=3.7.2 in /usr/local/lib/python3.10/dist-packages (from en-core-web-sm==3.7.1) (3.7.5)\n",
            "Requirement already satisfied: spacy-legacy<3.1.0,>=3.0.11 in /usr/local/lib/python3.10/dist-packages (from spacy<3.8.0,>=3.7.2->en-core-web-sm==3.7.1) (3.0.12)\n",
            "Requirement already satisfied: spacy-loggers<2.0.0,>=1.0.0 in /usr/local/lib/python3.10/dist-packages (from spacy<3.8.0,>=3.7.2->en-core-web-sm==3.7.1) (1.0.5)\n",
            "Requirement already satisfied: murmurhash<1.1.0,>=0.28.0 in /usr/local/lib/python3.10/dist-packages (from spacy<3.8.0,>=3.7.2->en-core-web-sm==3.7.1) (1.0.10)\n",
            "Requirement already satisfied: cymem<2.1.0,>=2.0.2 in /usr/local/lib/python3.10/dist-packages (from spacy<3.8.0,>=3.7.2->en-core-web-sm==3.7.1) (2.0.8)\n",
            "Requirement already satisfied: preshed<3.1.0,>=3.0.2 in /usr/local/lib/python3.10/dist-packages (from spacy<3.8.0,>=3.7.2->en-core-web-sm==3.7.1) (3.0.9)\n",
            "Requirement already satisfied: thinc<8.3.0,>=8.2.2 in /usr/local/lib/python3.10/dist-packages (from spacy<3.8.0,>=3.7.2->en-core-web-sm==3.7.1) (8.2.5)\n",
            "Requirement already satisfied: wasabi<1.2.0,>=0.9.1 in /usr/local/lib/python3.10/dist-packages (from spacy<3.8.0,>=3.7.2->en-core-web-sm==3.7.1) (1.1.3)\n",
            "Requirement already satisfied: srsly<3.0.0,>=2.4.3 in /usr/local/lib/python3.10/dist-packages (from spacy<3.8.0,>=3.7.2->en-core-web-sm==3.7.1) (2.4.8)\n",
            "Requirement already satisfied: catalogue<2.1.0,>=2.0.6 in /usr/local/lib/python3.10/dist-packages (from spacy<3.8.0,>=3.7.2->en-core-web-sm==3.7.1) (2.0.10)\n",
            "Requirement already satisfied: weasel<0.5.0,>=0.1.0 in /usr/local/lib/python3.10/dist-packages (from spacy<3.8.0,>=3.7.2->en-core-web-sm==3.7.1) (0.4.1)\n",
            "Requirement already satisfied: typer<1.0.0,>=0.3.0 in /usr/local/lib/python3.10/dist-packages (from spacy<3.8.0,>=3.7.2->en-core-web-sm==3.7.1) (0.13.0)\n",
            "Requirement already satisfied: tqdm<5.0.0,>=4.38.0 in /usr/local/lib/python3.10/dist-packages (from spacy<3.8.0,>=3.7.2->en-core-web-sm==3.7.1) (4.66.6)\n",
            "Requirement already satisfied: requests<3.0.0,>=2.13.0 in /usr/local/lib/python3.10/dist-packages (from spacy<3.8.0,>=3.7.2->en-core-web-sm==3.7.1) (2.32.3)\n",
            "Requirement already satisfied: pydantic!=1.8,!=1.8.1,<3.0.0,>=1.7.4 in /usr/local/lib/python3.10/dist-packages (from spacy<3.8.0,>=3.7.2->en-core-web-sm==3.7.1) (2.9.2)\n",
            "Requirement already satisfied: jinja2 in /usr/local/lib/python3.10/dist-packages (from spacy<3.8.0,>=3.7.2->en-core-web-sm==3.7.1) (3.1.4)\n",
            "Requirement already satisfied: setuptools in /usr/local/lib/python3.10/dist-packages (from spacy<3.8.0,>=3.7.2->en-core-web-sm==3.7.1) (75.1.0)\n",
            "Requirement already satisfied: packaging>=20.0 in /usr/local/lib/python3.10/dist-packages (from spacy<3.8.0,>=3.7.2->en-core-web-sm==3.7.1) (24.2)\n",
            "Requirement already satisfied: langcodes<4.0.0,>=3.2.0 in /usr/local/lib/python3.10/dist-packages (from spacy<3.8.0,>=3.7.2->en-core-web-sm==3.7.1) (3.4.1)\n",
            "Requirement already satisfied: numpy>=1.19.0 in /usr/local/lib/python3.10/dist-packages (from spacy<3.8.0,>=3.7.2->en-core-web-sm==3.7.1) (1.26.4)\n",
            "Requirement already satisfied: language-data>=1.2 in /usr/local/lib/python3.10/dist-packages (from langcodes<4.0.0,>=3.2.0->spacy<3.8.0,>=3.7.2->en-core-web-sm==3.7.1) (1.2.0)\n",
            "Requirement already satisfied: annotated-types>=0.6.0 in /usr/local/lib/python3.10/dist-packages (from pydantic!=1.8,!=1.8.1,<3.0.0,>=1.7.4->spacy<3.8.0,>=3.7.2->en-core-web-sm==3.7.1) (0.7.0)\n",
            "Requirement already satisfied: pydantic-core==2.23.4 in /usr/local/lib/python3.10/dist-packages (from pydantic!=1.8,!=1.8.1,<3.0.0,>=1.7.4->spacy<3.8.0,>=3.7.2->en-core-web-sm==3.7.1) (2.23.4)\n",
            "Requirement already satisfied: typing-extensions>=4.6.1 in /usr/local/lib/python3.10/dist-packages (from pydantic!=1.8,!=1.8.1,<3.0.0,>=1.7.4->spacy<3.8.0,>=3.7.2->en-core-web-sm==3.7.1) (4.12.2)\n",
            "Requirement already satisfied: charset-normalizer<4,>=2 in /usr/local/lib/python3.10/dist-packages (from requests<3.0.0,>=2.13.0->spacy<3.8.0,>=3.7.2->en-core-web-sm==3.7.1) (3.4.0)\n",
            "Requirement already satisfied: idna<4,>=2.5 in /usr/local/lib/python3.10/dist-packages (from requests<3.0.0,>=2.13.0->spacy<3.8.0,>=3.7.2->en-core-web-sm==3.7.1) (3.10)\n",
            "Requirement already satisfied: urllib3<3,>=1.21.1 in /usr/local/lib/python3.10/dist-packages (from requests<3.0.0,>=2.13.0->spacy<3.8.0,>=3.7.2->en-core-web-sm==3.7.1) (2.2.3)\n",
            "Requirement already satisfied: certifi>=2017.4.17 in /usr/local/lib/python3.10/dist-packages (from requests<3.0.0,>=2.13.0->spacy<3.8.0,>=3.7.2->en-core-web-sm==3.7.1) (2024.8.30)\n",
            "Requirement already satisfied: blis<0.8.0,>=0.7.8 in /usr/local/lib/python3.10/dist-packages (from thinc<8.3.0,>=8.2.2->spacy<3.8.0,>=3.7.2->en-core-web-sm==3.7.1) (0.7.11)\n",
            "Requirement already satisfied: confection<1.0.0,>=0.0.1 in /usr/local/lib/python3.10/dist-packages (from thinc<8.3.0,>=8.2.2->spacy<3.8.0,>=3.7.2->en-core-web-sm==3.7.1) (0.1.5)\n",
            "Requirement already satisfied: click>=8.0.0 in /usr/local/lib/python3.10/dist-packages (from typer<1.0.0,>=0.3.0->spacy<3.8.0,>=3.7.2->en-core-web-sm==3.7.1) (8.1.7)\n",
            "Requirement already satisfied: shellingham>=1.3.0 in /usr/local/lib/python3.10/dist-packages (from typer<1.0.0,>=0.3.0->spacy<3.8.0,>=3.7.2->en-core-web-sm==3.7.1) (1.5.4)\n",
            "Requirement already satisfied: rich>=10.11.0 in /usr/local/lib/python3.10/dist-packages (from typer<1.0.0,>=0.3.0->spacy<3.8.0,>=3.7.2->en-core-web-sm==3.7.1) (13.9.4)\n",
            "Requirement already satisfied: cloudpathlib<1.0.0,>=0.7.0 in /usr/local/lib/python3.10/dist-packages (from weasel<0.5.0,>=0.1.0->spacy<3.8.0,>=3.7.2->en-core-web-sm==3.7.1) (0.20.0)\n",
            "Requirement already satisfied: smart-open<8.0.0,>=5.2.1 in /usr/local/lib/python3.10/dist-packages (from weasel<0.5.0,>=0.1.0->spacy<3.8.0,>=3.7.2->en-core-web-sm==3.7.1) (7.0.5)\n",
            "Requirement already satisfied: MarkupSafe>=2.0 in /usr/local/lib/python3.10/dist-packages (from jinja2->spacy<3.8.0,>=3.7.2->en-core-web-sm==3.7.1) (3.0.2)\n",
            "Requirement already satisfied: marisa-trie>=0.7.7 in /usr/local/lib/python3.10/dist-packages (from language-data>=1.2->langcodes<4.0.0,>=3.2.0->spacy<3.8.0,>=3.7.2->en-core-web-sm==3.7.1) (1.2.1)\n",
            "Requirement already satisfied: markdown-it-py>=2.2.0 in /usr/local/lib/python3.10/dist-packages (from rich>=10.11.0->typer<1.0.0,>=0.3.0->spacy<3.8.0,>=3.7.2->en-core-web-sm==3.7.1) (3.0.0)\n",
            "Requirement already satisfied: pygments<3.0.0,>=2.13.0 in /usr/local/lib/python3.10/dist-packages (from rich>=10.11.0->typer<1.0.0,>=0.3.0->spacy<3.8.0,>=3.7.2->en-core-web-sm==3.7.1) (2.18.0)\n",
            "Requirement already satisfied: wrapt in /usr/local/lib/python3.10/dist-packages (from smart-open<8.0.0,>=5.2.1->weasel<0.5.0,>=0.1.0->spacy<3.8.0,>=3.7.2->en-core-web-sm==3.7.1) (1.16.0)\n",
            "Requirement already satisfied: mdurl~=0.1 in /usr/local/lib/python3.10/dist-packages (from markdown-it-py>=2.2.0->rich>=10.11.0->typer<1.0.0,>=0.3.0->spacy<3.8.0,>=3.7.2->en-core-web-sm==3.7.1) (0.1.2)\n",
            "\u001b[38;5;2m✔ Download and installation successful\u001b[0m\n",
            "You can now load the package via spacy.load('en_core_web_sm')\n",
            "\u001b[38;5;3m⚠ Restart to reload dependencies\u001b[0m\n",
            "If you are in a Jupyter or Colab notebook, you may need to restart Python in\n",
            "order to load all the package's dependencies. You can do this by selecting the\n",
            "'Restart kernel' or 'Restart runtime' option.\n"
          ]
        }
      ]
    },
    {
      "cell_type": "code",
      "source": [
        "import spacy\n",
        "\n",
        "nlp = spacy.load(\"en_core_web_sm\")\n",
        "text= 'This product is completely disappointing. The quality is poor, it doesn\\'t work as advertised, and the customer service was unhelpful when I reached out. I wouldn\\'t recommend this to anyone.'\n",
        "doc = nlp(text)\n",
        "tokens = [token.text for token in doc]\n",
        "print(tokens)"
      ],
      "metadata": {
        "colab": {
          "base_uri": "https://localhost:8080/"
        },
        "id": "ffJ8OvSib379",
        "outputId": "271de26a-c8f6-4969-ba74-2cade0a8604a"
      },
      "execution_count": 19,
      "outputs": [
        {
          "output_type": "stream",
          "name": "stdout",
          "text": [
            "['This', 'product', 'is', 'completely', 'disappointing', '.', 'The', 'quality', 'is', 'poor', ',', 'it', 'does', \"n't\", 'work', 'as', 'advertised', ',', 'and', 'the', 'customer', 'service', 'was', 'unhelpful', 'when', 'I', 'reached', 'out', '.', 'I', 'would', \"n't\", 'recommend', 'this', 'to', 'anyone', '.']\n"
          ]
        }
      ]
    },
    {
      "cell_type": "code",
      "execution_count": 20,
      "metadata": {
        "id": "Wt8-4IJ-AeyK"
      },
      "outputs": [],
      "source": [
        "stopwords = ['the', 'i', 'to', 'and', 'a', 'my', 'starbucks', 'of', 'was', 'in', 'it', 'for', 'that', 'is', 'they', 'me', 'at', 'on', 'have', 'coffee',\n",
        "'this', 'with', 'but', 'you', 'she', 'are', 'so', 'had', 'be',\n",
        "'when', 'their', 'customer', 'get', 'one', 'there', 'drink',\n",
        "'as', 'store', 'service', 'we', 'time', 'from', 'all', 'or', 'about', 'he']"
      ]
    },
    {
      "cell_type": "code",
      "source": [
        "# spaCy 기반 토큰화 함수 정의\n",
        "def spacy_tokenize(text):\n",
        "    doc = nlp(text)  # 텍스트 분석\n",
        "    return [token.text for token in doc]  # 토큰화 결과 반환"
      ],
      "metadata": {
        "id": "WDgv5Mnecdic"
      },
      "execution_count": 21,
      "outputs": []
    },
    {
      "cell_type": "code",
      "execution_count": 22,
      "metadata": {
        "id": "OXXoH4PtAhtT"
      },
      "outputs": [],
      "source": [
        "train_data['tokenized'] = train_data['Review'].apply(spacy_tokenize)\n",
        "train_data['tokenized'] = train_data['tokenized'].apply(lambda x: [item.lower() for item in x if item.lower() not in stopwords])\n",
        "test_data['tokenized'] = test_data['Review'].apply(spacy_tokenize)\n",
        "test_data['tokenized'] = test_data['tokenized'].apply(lambda x: [item.lower() for item in x if item.lower() not in stopwords])"
      ]
    },
    {
      "cell_type": "markdown",
      "metadata": {
        "id": "Rsr_CIMzAjtH"
      },
      "source": [
        "##4) 단어와 길이 분포 확인"
      ]
    },
    {
      "cell_type": "markdown",
      "source": [
        "Counter: Python의 collections 모듈에서 제공하는 클래스\n",
        "\n",
        " 리스트, 문자열, 튜플 등의 데이터에서 요소(항목)의 빈도수(횟수)를 계산하여 딕셔너리 형태로 반환"
      ],
      "metadata": {
        "id": "WwO2KuQHfeKO"
      }
    },
    {
      "cell_type": "markdown",
      "source": [
        "Counter의 주요 특징\n",
        "\n",
        "-빈도수 계산:\n",
        "데이터의 각 항목이 몇 번 등장했는지 쉽게 확인 가능.\n",
        "\n",
        "-딕셔너리 형태로 반환:\n",
        "항목을 키(key)로, 빈도수를 값(value)으로 저장.\n",
        "\n",
        "-가장 빈도가 높은 항목 추출:\n",
        "most_common() 메서드를 사용하여 빈도가 높은 항목을 쉽게 확인 가능."
      ],
      "metadata": {
        "id": "ZfyeoB8Jfol1"
      }
    },
    {
      "cell_type": "code",
      "source": [
        "from collections import Counter"
      ],
      "metadata": {
        "id": "0G9Rt-rtgxju"
      },
      "execution_count": 23,
      "outputs": []
    },
    {
      "cell_type": "code",
      "execution_count": 24,
      "metadata": {
        "id": "QjAo7OZjAj-B"
      },
      "outputs": [],
      "source": [
        "negative_words = np.hstack(train_data[train_data.label == 0]['tokenized'].values)\n",
        "positive_words = np.hstack(train_data[train_data.label == 1]['tokenized'].values)"
      ]
    },
    {
      "cell_type": "code",
      "execution_count": 25,
      "metadata": {
        "colab": {
          "base_uri": "https://localhost:8080/"
        },
        "id": "9X4ovV5rAmDO",
        "outputId": "752fc911-fb79-4e3f-9aaf-bed0b932c3c6"
      },
      "outputs": [
        {
          "output_type": "stream",
          "name": "stdout",
          "text": [
            "[('not', 368), ('nt', 285), ('do', 193), ('no', 154), ('did', 144), ('out', 143), ('if', 142), ('said', 141), ('order', 130), ('like', 129), ('up', 129), ('go', 128), ('her', 121), ('would', 116), ('card', 115), ('went', 112), ('just', 111), ('very', 110), ('because', 107), ('were', 106)]\n"
          ]
        }
      ],
      "source": [
        "negative_words = [word for word in negative_words if word.strip()]  # 공백 제거\n",
        "negative_word_count = Counter(negative_words)\n",
        "print(negative_word_count.most_common(20))"
      ]
    },
    {
      "cell_type": "code",
      "execution_count": 26,
      "metadata": {
        "colab": {
          "base_uri": "https://localhost:8080/"
        },
        "id": "HB5uNGOJAnE5",
        "outputId": "3e59777e-98e4-4963-f3e9-cb1c64729023"
      },
      "outputs": [
        {
          "output_type": "stream",
          "name": "stdout",
          "text": [
            "[('always', 43), ('not', 35), ('good', 31), ('very', 30), ('great', 30), ('nt', 25), ('like', 25), ('been', 21), ('more', 20), ('order', 19), ('its', 19), ('has', 19), ('food', 17), ('drinks', 16), ('do', 15), ('go', 15), ('staff', 14), ('could', 14), ('out', 14), ('would', 14)]\n"
          ]
        }
      ],
      "source": [
        "positive_words = [word for word in positive_words if word.strip()]  # 공백 제거\n",
        "positive_word_count = Counter(positive_words)\n",
        "print(positive_word_count.most_common(20))"
      ]
    },
    {
      "cell_type": "markdown",
      "source": [
        "긍정/부정 리뷰 평규 길이 시각화"
      ],
      "metadata": {
        "id": "TEyHEbjohXXG"
      }
    },
    {
      "cell_type": "code",
      "source": [
        "import matplotlib.pyplot as plt"
      ],
      "metadata": {
        "id": "eIiV23oBhZcL"
      },
      "execution_count": 28,
      "outputs": []
    },
    {
      "cell_type": "code",
      "execution_count": 29,
      "metadata": {
        "colab": {
          "base_uri": "https://localhost:8080/",
          "height": 550
        },
        "id": "CCn9FXhvAohm",
        "outputId": "d36a716b-0ffc-4f69-92b6-c794fba492fb"
      },
      "outputs": [
        {
          "output_type": "stream",
          "name": "stdout",
          "text": [
            "긍정 리뷰의 평균 길이 : 33.28409090909091\n",
            "부정 리뷰의 평균 길이 : 56.55227272727273\n"
          ]
        },
        {
          "output_type": "display_data",
          "data": {
            "text/plain": [
              "<Figure size 1000x500 with 2 Axes>"
            ],
            "image/png": "[encoded data removed]"
          },
          "metadata": {}
        }
      ],
      "source": [
        "fig,(ax1,ax2) = plt.subplots(1,2,figsize=(10,5))\n",
        "text_len = train_data[train_data['label']==1]['tokenized'].map(lambda x: len(x))\n",
        "ax1.hist(text_len, color='red')\n",
        "ax1.set_title('Positive Reviews')\n",
        "ax1.set_xlabel('length of samples')\n",
        "ax1.set_ylabel('number of samples')\n",
        "print('긍정 리뷰의 평균 길이 :', np.mean(text_len))\n",
        "\n",
        "text_len = train_data[train_data['label']==0]['tokenized'].map(lambda x: len(x))\n",
        "ax2.hist(text_len, color='blue')\n",
        "ax2.set_title('Negative Reviews')\n",
        "fig.suptitle('Words in texts')\n",
        "ax2.set_xlabel('length of samples')\n",
        "ax2.set_ylabel('number of samples')\n",
        "print('부정 리뷰의 평균 길이 :', np.mean(text_len))\n",
        "plt.show()"
      ]
    },
    {
      "cell_type": "code",
      "execution_count": 30,
      "metadata": {
        "id": "SmdaqM7nArGn"
      },
      "outputs": [],
      "source": [
        "X_train = train_data['tokenized'].values\n",
        "y_train = train_data['label'].values\n",
        "X_test= test_data['tokenized'].values\n",
        "y_test = test_data['label'].values"
      ]
    },
    {
      "cell_type": "markdown",
      "metadata": {
        "id": "bpndMr1zAs7x"
      },
      "source": [
        "##5) 정수 인코딩"
      ]
    },
    {
      "cell_type": "markdown",
      "source": [
        "Tokenizer: 텍스트 데이터를 머신러닝 모델에 입력하기 전에 숫자로 변환하거나, 단어/문장을 나누는 작업(토큰화)을 수행하는 도구"
      ],
      "metadata": {
        "id": "S9XSUlRMf9TF"
      }
    },
    {
      "cell_type": "markdown",
      "source": [
        "Tokenizer의 역할\n",
        "\n",
        "-토큰화 (Tokenization):\n",
        "\n",
        "문장을 단어 단위 또는 문자 단위로 분리.\n",
        "예: \"This is a test.\" → ['This', 'is', 'a', 'test'].\n",
        "\n",
        "-단어를 숫자로 매핑 (Encoding):\n",
        "\n",
        "텍스트 데이터를 모델에 입력할 수 있도록 숫자 인덱스로 변환.\n",
        "예: ['This', 'is', 'a', 'test'] → [1, 2, 3, 4].\n",
        "\n",
        "-패딩 (Padding):\n",
        "\n",
        "시퀀스의 길이를 동일하게 맞추기 위해 부족한 길이를 0으로 채움.\n",
        "예: [[1, 2], [3, 4, 5]] → [[1, 2, 0], [3, 4, 5]].\n",
        "\n",
        "-필터링:\n",
        "\n",
        "자주 등장하지 않는 단어를 제거하거나, 특정 길이 이상의 텍스트를 잘라냄."
      ],
      "metadata": {
        "id": "yoEbBYObf_F4"
      }
    },
    {
      "cell_type": "code",
      "source": [
        "from tensorflow.keras.preprocessing.text import Tokenizer"
      ],
      "metadata": {
        "id": "wo45fmn9gUel"
      },
      "execution_count": 31,
      "outputs": []
    },
    {
      "cell_type": "code",
      "execution_count": 32,
      "metadata": {
        "id": "OfC7OhwhAtPt"
      },
      "outputs": [],
      "source": [
        "tokenizer = Tokenizer()\n",
        "tokenizer.fit_on_texts(X_train)"
      ]
    },
    {
      "cell_type": "code",
      "execution_count": 33,
      "metadata": {
        "colab": {
          "base_uri": "https://localhost:8080/"
        },
        "id": "RcfqQL4RAurx",
        "outputId": "e46cbe75-59ed-4b34-8a7e-91d20840e4b1"
      },
      "outputs": [
        {
          "output_type": "stream",
          "name": "stdout",
          "text": [
            "단어 집합(vocabulary)의 크기 : 4542\n",
            "등장 빈도가 1번 이하인 희귀 단어의 수: 2260\n",
            "단어 집합에서 희귀 단어의 비율: 49.75781594011448\n",
            "전체 등장 빈도에서 희귀 단어 등장 빈도 비율: 8.125988781820796\n"
          ]
        }
      ],
      "source": [
        "threshold = 2\n",
        "total_cnt = len(tokenizer.word_index) # 단어의 수\n",
        "rare_cnt = 0 # 등장 빈도수가 threshold보다 작은 단어의 개수를 카운트\n",
        "total_freq = 0 # 훈련 데이터의 전체 단어 빈도수 총 합\n",
        "rare_freq = 0 # 등장 빈도수가 threshold보다 작은 단어의 등장 빈도수의 총 합\n",
        "\n",
        "# 단어와 빈도수의 쌍(pair)을 key와 value로 받는다.\n",
        "for key, value in tokenizer.word_counts.items():\n",
        "    total_freq = total_freq + value\n",
        "\n",
        "    # 단어의 등장 빈도수가 threshold보다 작으면\n",
        "    if(value < threshold):\n",
        "        rare_cnt = rare_cnt + 1\n",
        "        rare_freq = rare_freq + value\n",
        "\n",
        "print('단어 집합(vocabulary)의 크기 :',total_cnt)\n",
        "print('등장 빈도가 %s번 이하인 희귀 단어의 수: %s'%(threshold - 1, rare_cnt))\n",
        "print(\"단어 집합에서 희귀 단어의 비율:\", (rare_cnt / total_cnt)*100)\n",
        "print(\"전체 등장 빈도에서 희귀 단어 등장 빈도 비율:\", (rare_freq / total_freq)*100)"
      ]
    },
    {
      "cell_type": "code",
      "execution_count": 34,
      "metadata": {
        "colab": {
          "base_uri": "https://localhost:8080/"
        },
        "id": "FrtkK0DZAwTH",
        "outputId": "e6e37c96-b270-47da-df0b-743ec1f29948"
      },
      "outputs": [
        {
          "output_type": "stream",
          "name": "stdout",
          "text": [
            "단어 집합의 크기 : 2284\n"
          ]
        }
      ],
      "source": [
        "# 전체 단어 개수 중 빈도수 2이하인 단어 개수는 제거.\n",
        "# 0번 패딩 토큰과 1번 OOV 토큰을 고려하여 +2\n",
        "vocab_size = total_cnt - rare_cnt + 2\n",
        "print('단어 집합의 크기 :',vocab_size)"
      ]
    },
    {
      "cell_type": "code",
      "execution_count": 35,
      "metadata": {
        "id": "QrGioOATAyAp"
      },
      "outputs": [],
      "source": [
        "tokenizer = Tokenizer(vocab_size, oov_token = 'OOV')\n",
        "tokenizer.fit_on_texts(X_train)\n",
        "X_train = tokenizer.texts_to_sequences(X_train)\n",
        "X_test = tokenizer.texts_to_sequences(X_test)"
      ]
    },
    {
      "cell_type": "code",
      "execution_count": 36,
      "metadata": {
        "colab": {
          "base_uri": "https://localhost:8080/"
        },
        "id": "1hxj_AVPA0Uw",
        "outputId": "970ee7b4-8b71-4d5e-fade-0d64c10ec47f"
      },
      "outputs": [
        {
          "output_type": "stream",
          "name": "stdout",
          "text": [
            "[[1556, 427, 14, 385, 1557, 16, 8, 109, 33, 1, 193, 1, 206, 554, 1, 50, 30, 121, 1558, 71, 555, 9, 866, 5, 1, 611, 1, 310, 769, 458, 1, 9, 207, 290, 1223, 1, 61, 16, 4, 405, 1, 122, 7, 1, 1, 331, 1030, 141, 50, 19, 612, 33, 33, 556, 5, 4, 428, 406, 10, 459, 1, 1559, 21, 1], [41, 98, 142, 18, 1560, 57, 98, 386, 311, 11, 20, 3, 1, 208, 103, 4, 1031, 1032, 429, 109, 248, 194, 1, 90, 557, 62, 14, 343, 30, 3, 1033, 142, 18, 460, 2, 135, 1561, 1], [176, 2, 461, 154, 160, 104, 3, 684, 61, 67, 63, 29, 177, 63, 227, 58, 1224, 110, 91, 1, 103, 867, 76, 1562, 79, 39, 29, 430, 33, 154, 45, 209, 39, 82, 33, 387, 67, 1225, 59, 462, 1, 387, 63, 461, 154, 160, 1, 39, 161, 33, 154, 503, 40, 558, 431, 186, 1562, 79, 86, 63, 235, 461, 154, 160, 195, 31, 388, 63, 235, 5, 4, 1, 50, 8, 1032, 1563, 1, 121, 1, 1226]]\n"
          ]
        }
      ],
      "source": [
        "print(X_train[:3])"
      ]
    },
    {
      "cell_type": "code",
      "execution_count": 37,
      "metadata": {
        "colab": {
          "base_uri": "https://localhost:8080/"
        },
        "id": "ngXmyULrA1gA",
        "outputId": "0b0d85ad-9bf0-46fb-a642-a6ff8b4935f9"
      },
      "outputs": [
        {
          "output_type": "stream",
          "name": "stdout",
          "text": [
            "[[327, 608, 160, 84, 3, 145, 48, 24, 157, 1, 1, 348, 1, 1, 257, 1718, 542, 1037, 60], [41, 2, 1, 337, 3, 1, 935, 1, 27, 1402, 527, 266, 14, 549, 1, 60, 195, 48, 3, 63, 593, 2223, 430, 504, 387, 38, 1, 107, 181, 342, 738, 1, 1, 3, 387, 72, 405, 14, 659, 185, 211, 3, 54, 5, 3, 636, 52, 1426, 1, 9, 109, 527, 5, 3, 344, 182, 63, 28], [86, 44, 74, 251, 1, 1, 123, 2, 12, 1, 118, 1525, 86, 1381, 935, 114, 1, 551, 114, 1, 139, 1727, 883, 1, 1592, 1962, 2, 1198, 172, 25, 1315, 171, 62, 14, 1249, 110, 1962, 1, 404, 582, 1, 55]]\n"
          ]
        }
      ],
      "source": [
        "print(X_test[:3])"
      ]
    },
    {
      "cell_type": "markdown",
      "metadata": {
        "id": "3w-ZO9mXA2kH"
      },
      "source": [
        "##6) 패딩"
      ]
    },
    {
      "cell_type": "markdown",
      "source": [
        "pad_sequences: TensorFlow/Keras의 텍스트 전처리 도구로, 길이가 다른 시퀀스(sequence)를 동일한 길이로 맞춰주는 데 사용됩니다."
      ],
      "metadata": {
        "id": "50lh1qspiJwn"
      }
    },
    {
      "cell_type": "markdown",
      "source": [
        "pad_sequences의 주요 기능\n",
        "\n",
        "-시퀀스의 길이 통일:\n",
        "\n",
        "길이가 다른 시퀀스를 특정 길이로 맞춤.\n",
        "짧은 시퀀스는 **패딩(padding)**을 추가해 길이를 늘림.\n",
        "긴 시퀀스는 잘라냄(truncating).\n",
        "\n",
        "-패딩 위치 선택:\n",
        "\n",
        "앞쪽(pre) 또는 뒤쪽(post)에 패딩을 추가.\n",
        "\n",
        "-패딩 값 지정:\n",
        "\n",
        "패딩에 사용할 값을 지정 (기본값: 0)."
      ],
      "metadata": {
        "id": "NGO3zwh8iQo-"
      }
    },
    {
      "cell_type": "code",
      "source": [
        "from tensorflow.keras.preprocessing.sequence import pad_sequences"
      ],
      "metadata": {
        "id": "XgMYyNnPh4HM"
      },
      "execution_count": 42,
      "outputs": []
    },
    {
      "cell_type": "code",
      "execution_count": 43,
      "metadata": {
        "colab": {
          "base_uri": "https://localhost:8080/",
          "height": 484
        },
        "id": "aJRVUGp0A25R",
        "outputId": "6e73abda-192d-42a6-e13f-c9c5fefbf80f"
      },
      "outputs": [
        {
          "output_type": "stream",
          "name": "stdout",
          "text": [
            "리뷰의 최대 길이 : 123\n",
            "리뷰의 평균 길이 : 52.67424242424242\n"
          ]
        },
        {
          "output_type": "display_data",
          "data": {
            "text/plain": [
              "<Figure size 640x480 with 1 Axes>"
            ],
            "image/png": "[encoded data removed]"
          },
          "metadata": {}
        }
      ],
      "source": [
        "print('리뷰의 최대 길이 :',max(len(review) for review in X_train))\n",
        "print('리뷰의 평균 길이 :',sum(map(len, X_train))/len(X_train))\n",
        "plt.hist([len(review) for review in X_train], bins=50)\n",
        "plt.xlabel('length of samples')\n",
        "plt.ylabel('number of samples')\n",
        "plt.show()"
      ]
    },
    {
      "cell_type": "code",
      "execution_count": 44,
      "metadata": {
        "id": "0dGgMwA6A5QT"
      },
      "outputs": [],
      "source": [
        "def below_threshold_len(max_len, nested_list):\n",
        "  count = 0\n",
        "  for sentence in nested_list:\n",
        "    if(len(sentence) <= max_len):\n",
        "        count = count + 1\n",
        "  print('전체 샘플 중 길이가 %s 이하인 샘플의 비율: %s'%(max_len, (count / len(nested_list))*100))"
      ]
    },
    {
      "cell_type": "code",
      "execution_count": 45,
      "metadata": {
        "colab": {
          "base_uri": "https://localhost:8080/"
        },
        "id": "IMB3_hCgA6wu",
        "outputId": "43a94c73-588f-4b13-a035-e9ca269b7710"
      },
      "outputs": [
        {
          "output_type": "stream",
          "name": "stdout",
          "text": [
            "전체 샘플 중 길이가 80 이하인 샘플의 비율: 84.0909090909091\n"
          ]
        }
      ],
      "source": [
        "max_len = 80\n",
        "below_threshold_len(max_len, X_train)"
      ]
    },
    {
      "cell_type": "code",
      "execution_count": 47,
      "metadata": {
        "id": "k48FdV8WA7_3"
      },
      "outputs": [],
      "source": [
        "X_train = pad_sequences(X_train, maxlen=max_len)\n",
        "X_test = pad_sequences(X_test, maxlen=max_len)"
      ]
    },
    {
      "cell_type": "markdown",
      "metadata": {
        "id": "Q6UcaaiCA9HR"
      },
      "source": [
        "#2. GRU로 스타벅스 감정리뷰 예측"
      ]
    },
    {
      "cell_type": "markdown",
      "source": [
        "주요 매개변수 설명\n",
        "\n",
        "<Embedding 레이어>\n",
        "\n",
        "단어를 고차원 벡터로 변환.\n",
        "\n",
        "입력 크기: vocab_size (전체 단어 집합의 크기).\n",
        "\n",
        "출력 크기: embedding_dim (단어 벡터의 차원).\n",
        "\n",
        "\n",
        "<GRU 레이어>\n",
        "\n",
        "Gated Recurrent Unit으로, LSTM의 변형 버전.\n",
        "\n",
        "시퀀스 데이터 처리에 사용되며, **은닉 상태 크기(hidden_units)**로 출력 벡터 크기 결정.\n",
        "\n",
        "\n",
        "<Dense 레이어>\n",
        "\n",
        "출력 노드가 1개이며, sigmoid 활성화 함수를 통해 출력값을 0~1 사이로 제한.\n"
      ],
      "metadata": {
        "id": "YpCmOCxzi33j"
      }
    },
    {
      "cell_type": "markdown",
      "source": [
        "![image.png](data:image/png;base64,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)"
      ],
      "metadata": {
        "id": "8rHQ8gRUkIYX"
      }
    },
    {
      "cell_type": "markdown",
      "source": [
        "RMSProp: 딥러닝에서 사용되는 경사 하강법(SGD)의 업그레이드 버전으로, 학습을 더 빠르고 안정적으로 만드는 방법\n",
        "\n",
        "\n",
        "<RMSProp의 핵심 아이디어>\n",
        "\n",
        "각 변수마다 다른 학습률을 적용\n",
        "→ 변화가 많은 변수는 학습률을 작게, 변화가 적은 변수는 학습률을 크게.\n",
        "\n",
        "기울기의 크기를 활용\n",
        "→ 기울기가 클수록 학습률을 작게 만들어서, 안정적으로 학습하도록 조정.\n",
        "\n",
        "<작동 원리>\n",
        "\n",
        "1.기울기를 관찰한다\n",
        "\n",
        "모델이 잘못된 방향으로 이동한 정도(기울기)를 계산\n",
        "\n",
        "2.기울기의 변화량을 저장한다\n",
        "\n",
        "기울기의 크기를 기록하고, 이전 데이터와 합쳐서 평균을 낸다.\n",
        "(너무 급격히 변하는 걸 막으려고 지수 이동 평균을 사용.)\n",
        "\n",
        "3.학습률을 조정한다\n",
        "\n",
        "기울기가 크면 학습률을 줄이고, 기울기가 작으면 학습률을 키운다"
      ],
      "metadata": {
        "id": "oc5OIU64myE4"
      }
    },
    {
      "cell_type": "code",
      "execution_count": 49,
      "metadata": {
        "colab": {
          "base_uri": "https://localhost:8080/"
        },
        "id": "c-YBAIKAA90V",
        "outputId": "2dc0bb6a-b310-4d03-ce77-d20104bd6781"
      },
      "outputs": [
        {
          "output_type": "stream",
          "name": "stdout",
          "text": [
            "Epoch 1/15\n",
            "\u001b[1m7/7\u001b[0m \u001b[32m━━━━━━━━━━━━━━━━━━━━\u001b[0m\u001b[37m\u001b[0m \u001b[1m0s\u001b[0m 172ms/step - acc: 0.7066 - loss: 0.6562\n",
            "Epoch 1: val_acc improved from -inf to 0.83019, saving model to best_model.keras\n",
            "\u001b[1m7/7\u001b[0m \u001b[32m━━━━━━━━━━━━━━━━━━━━\u001b[0m\u001b[37m\u001b[0m \u001b[1m4s\u001b[0m 254ms/step - acc: 0.7160 - loss: 0.6517 - val_acc: 0.8302 - val_loss: 0.5045\n",
            "Epoch 2/15\n",
            "\u001b[1m7/7\u001b[0m \u001b[32m━━━━━━━━━━━━━━━━━━━━\u001b[0m\u001b[37m\u001b[0m \u001b[1m0s\u001b[0m 302ms/step - acc: 0.8524 - loss: 0.4487\n",
            "Epoch 2: val_acc did not improve from 0.83019\n",
            "\u001b[1m7/7\u001b[0m \u001b[32m━━━━━━━━━━━━━━━━━━━━\u001b[0m\u001b[37m\u001b[0m \u001b[1m2s\u001b[0m 337ms/step - acc: 0.8501 - loss: 0.4486 - val_acc: 0.8302 - val_loss: 0.4492\n",
            "Epoch 3/15\n",
            "\u001b[1m7/7\u001b[0m \u001b[32m━━━━━━━━━━━━━━━━━━━━\u001b[0m\u001b[37m\u001b[0m \u001b[1m0s\u001b[0m 362ms/step - acc: 0.8196 - loss: 0.4263\n",
            "Epoch 3: val_acc did not improve from 0.83019\n",
            "\u001b[1m7/7\u001b[0m \u001b[32m━━━━━━━━━━━━━━━━━━━━\u001b[0m\u001b[37m\u001b[0m \u001b[1m3s\u001b[0m 421ms/step - acc: 0.8218 - loss: 0.4223 - val_acc: 0.8113 - val_loss: 0.4231\n",
            "Epoch 4/15\n",
            "\u001b[1m7/7\u001b[0m \u001b[32m━━━━━━━━━━━━━━━━━━━━\u001b[0m\u001b[37m\u001b[0m \u001b[1m0s\u001b[0m 173ms/step - acc: 0.8722 - loss: 0.2845\n",
            "Epoch 4: val_acc improved from 0.83019 to 0.86792, saving model to best_model.keras\n",
            "\u001b[1m7/7\u001b[0m \u001b[32m━━━━━━━━━━━━━━━━━━━━\u001b[0m\u001b[37m\u001b[0m \u001b[1m4s\u001b[0m 198ms/step - acc: 0.8707 - loss: 0.2874 - val_acc: 0.8679 - val_loss: 0.3841\n",
            "Epoch 5/15\n",
            "\u001b[1m7/7\u001b[0m \u001b[32m━━━━━━━━━━━━━━━━━━━━\u001b[0m\u001b[37m\u001b[0m \u001b[1m0s\u001b[0m 180ms/step - acc: 0.9004 - loss: 0.2602\n",
            "Epoch 5: val_acc improved from 0.86792 to 0.87736, saving model to best_model.keras\n",
            "\u001b[1m7/7\u001b[0m \u001b[32m━━━━━━━━━━━━━━━━━━━━\u001b[0m\u001b[37m\u001b[0m \u001b[1m1s\u001b[0m 205ms/step - acc: 0.9016 - loss: 0.2572 - val_acc: 0.8774 - val_loss: 0.3659\n",
            "Epoch 6/15\n",
            "\u001b[1m7/7\u001b[0m \u001b[32m━━━━━━━━━━━━━━━━━━━━\u001b[0m\u001b[37m\u001b[0m \u001b[1m0s\u001b[0m 171ms/step - acc: 0.9479 - loss: 0.1830\n",
            "Epoch 6: val_acc improved from 0.87736 to 0.88679, saving model to best_model.keras\n",
            "\u001b[1m7/7\u001b[0m \u001b[32m━━━━━━━━━━━━━━━━━━━━\u001b[0m\u001b[37m\u001b[0m \u001b[1m1s\u001b[0m 194ms/step - acc: 0.9479 - loss: 0.1843 - val_acc: 0.8868 - val_loss: 0.3583\n",
            "Epoch 7/15\n",
            "\u001b[1m7/7\u001b[0m \u001b[32m━━━━━━━━━━━━━━━━━━━━\u001b[0m\u001b[37m\u001b[0m \u001b[1m0s\u001b[0m 172ms/step - acc: 0.9707 - loss: 0.1079\n",
            "Epoch 7: val_acc did not improve from 0.88679\n",
            "\u001b[1m7/7\u001b[0m \u001b[32m━━━━━━━━━━━━━━━━━━━━\u001b[0m\u001b[37m\u001b[0m \u001b[1m2s\u001b[0m 191ms/step - acc: 0.9700 - loss: 0.1081 - val_acc: 0.8868 - val_loss: 0.3468\n",
            "Epoch 8/15\n",
            "\u001b[1m7/7\u001b[0m \u001b[32m━━━━━━━━━━━━━━━━━━━━\u001b[0m\u001b[37m\u001b[0m \u001b[1m0s\u001b[0m 215ms/step - acc: 0.9887 - loss: 0.0707\n",
            "Epoch 8: val_acc improved from 0.88679 to 0.89623, saving model to best_model.keras\n",
            "\u001b[1m7/7\u001b[0m \u001b[32m━━━━━━━━━━━━━━━━━━━━\u001b[0m\u001b[37m\u001b[0m \u001b[1m3s\u001b[0m 278ms/step - acc: 0.9886 - loss: 0.0698 - val_acc: 0.8962 - val_loss: 0.4839\n",
            "Epoch 9/15\n",
            "\u001b[1m7/7\u001b[0m \u001b[32m━━━━━━━━━━━━━━━━━━━━\u001b[0m\u001b[37m\u001b[0m \u001b[1m0s\u001b[0m 352ms/step - acc: 0.9911 - loss: 0.0386\n",
            "Epoch 9: val_acc did not improve from 0.89623\n",
            "\u001b[1m7/7\u001b[0m \u001b[32m━━━━━━━━━━━━━━━━━━━━\u001b[0m\u001b[37m\u001b[0m \u001b[1m4s\u001b[0m 411ms/step - acc: 0.9910 - loss: 0.0384 - val_acc: 0.8868 - val_loss: 0.4257\n",
            "Epoch 10/15\n",
            "\u001b[1m7/7\u001b[0m \u001b[32m━━━━━━━━━━━━━━━━━━━━\u001b[0m\u001b[37m\u001b[0m \u001b[1m0s\u001b[0m 168ms/step - acc: 0.9997 - loss: 0.0194\n",
            "Epoch 10: val_acc improved from 0.89623 to 0.90566, saving model to best_model.keras\n",
            "\u001b[1m7/7\u001b[0m \u001b[32m━━━━━━━━━━━━━━━━━━━━\u001b[0m\u001b[37m\u001b[0m \u001b[1m4s\u001b[0m 192ms/step - acc: 0.9994 - loss: 0.0193 - val_acc: 0.9057 - val_loss: 0.4737\n",
            "Epoch 11/15\n",
            "\u001b[1m7/7\u001b[0m \u001b[32m━━━━━━━━━━━━━━━━━━━━\u001b[0m\u001b[37m\u001b[0m \u001b[1m0s\u001b[0m 169ms/step - acc: 1.0000 - loss: 0.0172\n",
            "Epoch 11: val_acc did not improve from 0.90566\n",
            "\u001b[1m7/7\u001b[0m \u001b[32m━━━━━━━━━━━━━━━━━━━━\u001b[0m\u001b[37m\u001b[0m \u001b[1m3s\u001b[0m 188ms/step - acc: 1.0000 - loss: 0.0173 - val_acc: 0.8962 - val_loss: 0.5917\n",
            "Epoch 11: early stopping\n"
          ]
        }
      ],
      "source": [
        "# TensorFlow/Keras에서 필요한 모듈 임포트\n",
        "from tensorflow.keras.layers import Embedding, Dense, GRU  # Embedding, Dense, GRU 레이어\n",
        "from tensorflow.keras.models import Sequential  # Sequential 모델\n",
        "from tensorflow.keras.models import load_model  # 모델 저장 및 로드\n",
        "from tensorflow.keras.callbacks import EarlyStopping, ModelCheckpoint  # 콜백 설정 (조기 종료, 모델 체크포인트)\n",
        "\n",
        "# 임베딩 차원과 GRU의 은닉 상태 크기 정의\n",
        "embedding_dim = 100  # 임베딩 벡터의 차원 (단어를 100차원 벡터로 변환)\n",
        "hidden_units = 128  # GRU 레이어의 은닉 상태 크기\n",
        "\n",
        "# Sequential 모델 생성\n",
        "model = Sequential()\n",
        "\n",
        "# Embedding 레이어 추가\n",
        "# - vocab_size: 전체 단어 집합의 크기 (단어 인덱스의 개수)\n",
        "# - embedding_dim: 단어를 변환할 임베딩 벡터의 차원\n",
        "model.add(Embedding(vocab_size, embedding_dim))\n",
        "\n",
        "# GRU 레이어 추가\n",
        "# - hidden_units: GRU의 은닉 상태 크기\n",
        "model.add(GRU(hidden_units))\n",
        "\n",
        "# Dense 레이어 추가\n",
        "# - 출력 노드: 1개 (이진 분류)\n",
        "# - 활성화 함수: 'sigmoid' (출력값을 0~1 사이로 변환)\n",
        "model.add(Dense(1, activation='sigmoid'))\n",
        "\n",
        "# EarlyStopping 콜백 설정\n",
        "# - val_loss(검증 손실)을 모니터링\n",
        "# - 연속으로 4번(val_loss 개선 없음) 동안 학습 종료\n",
        "es = EarlyStopping(monitor='val_loss', mode='min', verbose=1, patience=4)\n",
        "\n",
        "# ModelCheckpoint 콜백 설정\n",
        "# - val_acc(검증 정확도)를 모니터링\n",
        "# - 가장 높은 val_acc를 가진 모델을 'best_model.keras' 파일로 저장\n",
        "mc = ModelCheckpoint('best_model.keras', monitor='val_acc', mode='max', verbose=1, save_best_only=True)\n",
        "\n",
        "# 모델 컴파일\n",
        "# - optimizer: 'rmsprop' (RMSProp 최적화 알고리즘)\n",
        "# - loss: 'binary_crossentropy' (이진 분류를 위한 손실 함수)\n",
        "# - metrics: 'acc' (정확도를 모니터링)\n",
        "model.compile(optimizer='rmsprop', loss='binary_crossentropy', metrics=['acc'])\n",
        "\n",
        "# 모델 학습\n",
        "# - X_train: 학습 데이터 (숫자 시퀀스로 변환된 텍스트)\n",
        "# - y_train: 학습 데이터의 레이블 (0 또는 1)\n",
        "# - epochs: 15번 반복 학습\n",
        "# - batch_size: 미니 배치 크기 (64)\n",
        "# - validation_split: 학습 데이터의 20%를 검증 데이터로 사용\n",
        "# - callbacks: EarlyStopping과 ModelCheckpoint 콜백을 사용\n",
        "history = model.fit(X_train, y_train, epochs=15, callbacks=[es, mc], batch_size=64, validation_split=0.2)"
      ]
    },
    {
      "cell_type": "code",
      "execution_count": 50,
      "metadata": {
        "colab": {
          "base_uri": "https://localhost:8080/"
        },
        "id": "wvJBh5O9A_aE",
        "outputId": "7f88cc72-7d58-487f-9038-f83c552b0149"
      },
      "outputs": [
        {
          "output_type": "stream",
          "name": "stdout",
          "text": [
            "\u001b[1m6/6\u001b[0m \u001b[32m━━━━━━━━━━━━━━━━━━━━\u001b[0m\u001b[37m\u001b[0m \u001b[1m1s\u001b[0m 33ms/step - acc: 0.7924 - loss: 0.8694\n",
            "\n",
            " 테스트 정확도: 0.8295\n"
          ]
        }
      ],
      "source": [
        "loaded_model = load_model('best_model.keras')\n",
        "print(\"\\n 테스트 정확도: %.4f\" % (loaded_model.evaluate(X_test, y_test)[1]))"
      ]
    },
    {
      "cell_type": "markdown",
      "metadata": {
        "id": "kwBjOJjgBCOB"
      },
      "source": [
        "#3. 리뷰 예측해보기"
      ]
    },
    {
      "cell_type": "code",
      "execution_count": 58,
      "metadata": {
        "id": "uJ3KH7_3BBIM"
      },
      "outputs": [],
      "source": [
        "import re\n",
        "\n",
        "def sentiment_predict(new_sentence):\n",
        "  new_sentence = re.sub(r'[^a-zA-Z ]','', new_sentence)\n",
        "  new_sentence = spacy_tokenize(new_sentence)\n",
        "  new_sentence = [word for word in new_sentence if not word in stopwords]\n",
        "  encoded = tokenizer.texts_to_sequences([new_sentence])\n",
        "  pad_new = pad_sequences(encoded, maxlen = max_len)\n",
        "\n",
        "  score = float(loaded_model.predict(pad_new))\n",
        "  if(score > 0.5):\n",
        "    print(\"{:.2f}% 확률로 긍정 리뷰입니다.\".format(score * 100))\n",
        "  else:\n",
        "    print(\"{:.2f}% 확률로 부정 리뷰입니다.\".format((1 - score) * 100))"
      ]
    },
    {
      "cell_type": "code",
      "source": [
        "import random\n",
        "\n",
        "random.seed(12)\n",
        "\n",
        "random_reviews = random.sample(list(total_data[['Review', 'label']].values), 6)\n",
        "\n",
        "for review in random_reviews:\n",
        "  print('review:',review)"
      ],
      "metadata": {
        "colab": {
          "base_uri": "https://localhost:8080/"
        },
        "id": "eQfBpSqy1A9I",
        "outputId": "f3e3e9b9-1166-41b9-d884-64a7b5e23cf1"
      },
      "execution_count": 109,
      "outputs": [
        {
          "output_type": "stream",
          "name": "stdout",
          "text": [
            "review: ['Know I frequent 3 different Starbucks in my area, the closest one does not have a drive-through but the other 2 do so if I have my little kids with me I go to the drive-thrus. When I\\'m by myself I used to go to the non-drive-thru store. Oxnard, CA and Port Hueneme, CA. Why is it every time one goes to any one of these Starbucks and orders something off their food menu, eight out of 10 times they\\'re out of it... \"Can I have the slow roasted ham and cheese?\" Then the cashier says, \"Oh wait, let me check and see if we have any... oh I\\'m sorry, were out of that.\" And I say \"How about the grilled cheese sandwich?\" Then the same reply... \"Sorry, we\\'re out of that, too.\" Then I say, \"Can you check to see if you still have any of the THE NEW beef sandwich on sourdough that you have pictures plastered all over place?\" Guess what the reply is???'\n",
            " 0]\n",
            "review: ['The customer service is also great. Will make the coffee as you wish. Even willing to help you decide what you want or try come close. The food is okay. Pastries are Great...'\n",
            " 1]\n",
            "review: [\"I work as a Starbucks, Safeway employee; and I have recently gotten the job. There are no benefits at all. At a normal Starbucks, they get a pound of coffee a week, and I don't get any discounts. I get none of that, and I don't even get discounts on drinks. I find this unfair to all Starbucks, Safeway employees. I need to know why we don't get benefits just because I work in Safeway.\"\n",
            " 0]\n",
            "review: [\"December 3rd 2014 at 12:49:35 pm, I went to my usual Starbucks and got my usual 2 Venti sugar free mocha frappuccino lite with 8 Splenda each and with the skinny mocha. I also got my son his usual Venti strawberries and cream frappuccino as well as a grilled cheese sandwich for myself as well as my son. I arrived back home and gave my son his sandwich and frappuccino and I started on my second frappuccino. I was in the kitchen 20 feet away when I heard my 5 year old granddaughter screaming 'daddy, daddy' and I rushed toward him seeing that his face was red and he was choking. My younger son was screaming “Mommy help him. Oh my god mom, I think he's choking.” He managed to get to his feet and I'm pounding him on the back and somehow he took his fist and basically gave himself the Heimlich maneuver. A hunk of grilled cheese came out and with it was a yellow distressed bread clip! I immediately notified the store which was pointless and then I called Starbucks customer service and notified them what happened. \"\n",
            " 0]\n",
            "review: [\"I'm currently a college student and I make it a routine to visit Starbucks whenever I have a huge exam coming up or final exams. It's a great place to study and enjoy my favorite coffee at the same time. But the last couple of times that I've been to the Starbucks by my house, I have ran into a crowd of extremely loud folks that hang around inside and speak really loud. They even arrange the couches and the chairs in a circle so they can talk. They scream across the place and even the employees working there are really loud!\"\n",
            " 0]\n",
            "review: ['Better coffee made at home. Unknown why people pay high prices for high fat drinks with poor service. Does anyone have imagination to see a bad deal when presented with it?'\n",
            " 0]\n"
          ]
        }
      ]
    },
    {
      "cell_type": "code",
      "source": [
        "for review in random_reviews:\n",
        "  sentiment_predict(review[0])"
      ],
      "metadata": {
        "colab": {
          "base_uri": "https://localhost:8080/"
        },
        "id": "Gawu6w19lxlw",
        "outputId": "5e8b8990-e70f-4c27-bb80-78810c935276"
      },
      "execution_count": 110,
      "outputs": [
        {
          "output_type": "stream",
          "name": "stdout",
          "text": [
            "\u001b[1m1/1\u001b[0m \u001b[32m━━━━━━━━━━━━━━━━━━━━\u001b[0m\u001b[37m\u001b[0m \u001b[1m0s\u001b[0m 48ms/step\n",
            "100.00% 확률로 부정 리뷰입니다.\n",
            "\u001b[1m1/1\u001b[0m \u001b[32m━━━━━━━━━━━━━━━━━━━━\u001b[0m\u001b[37m\u001b[0m \u001b[1m0s\u001b[0m 29ms/step\n",
            "83.65% 확률로 긍정 리뷰입니다.\n",
            "\u001b[1m1/1\u001b[0m \u001b[32m━━━━━━━━━━━━━━━━━━━━\u001b[0m\u001b[37m\u001b[0m \u001b[1m0s\u001b[0m 31ms/step\n"
          ]
        },
        {
          "output_type": "stream",
          "name": "stderr",
          "text": [
            "<ipython-input-58-8e434bcc36b4>:10: DeprecationWarning: Conversion of an array with ndim > 0 to a scalar is deprecated, and will error in future. Ensure you extract a single element from your array before performing this operation. (Deprecated NumPy 1.25.)\n",
            "  score = float(loaded_model.predict(pad_new))\n"
          ]
        },
        {
          "output_type": "stream",
          "name": "stdout",
          "text": [
            "99.99% 확률로 부정 리뷰입니다.\n",
            "\u001b[1m1/1\u001b[0m \u001b[32m━━━━━━━━━━━━━━━━━━━━\u001b[0m\u001b[37m\u001b[0m \u001b[1m0s\u001b[0m 34ms/step\n",
            "100.00% 확률로 부정 리뷰입니다.\n",
            "\u001b[1m1/1\u001b[0m \u001b[32m━━━━━━━━━━━━━━━━━━━━\u001b[0m\u001b[37m\u001b[0m \u001b[1m0s\u001b[0m 35ms/step\n",
            "99.96% 확률로 부정 리뷰입니다.\n",
            "\u001b[1m1/1\u001b[0m \u001b[32m━━━━━━━━━━━━━━━━━━━━\u001b[0m\u001b[37m\u001b[0m \u001b[1m0s\u001b[0m 35ms/step\n",
            "99.82% 확률로 부정 리뷰입니다.\n"
          ]
        }
      ]
    },
    {
      "cell_type": "markdown",
      "source": [
        "만들어 낸 것"
      ],
      "metadata": {
        "id": "S9D33dfP29gS"
      }
    },
    {
      "cell_type": "code",
      "execution_count": 111,
      "metadata": {
        "colab": {
          "base_uri": "https://localhost:8080/"
        },
        "id": "sC7eA79QBFkS",
        "outputId": "ff1f62f0-203e-485c-91a1-27b6c29d0db5"
      },
      "outputs": [
        {
          "output_type": "stream",
          "name": "stdout",
          "text": [
            "\u001b[1m1/1\u001b[0m \u001b[32m━━━━━━━━━━━━━━━━━━━━\u001b[0m\u001b[37m\u001b[0m \u001b[1m0s\u001b[0m 49ms/step\n",
            "61.73% 확률로 긍정 리뷰입니다.\n"
          ]
        },
        {
          "output_type": "stream",
          "name": "stderr",
          "text": [
            "<ipython-input-58-8e434bcc36b4>:10: DeprecationWarning: Conversion of an array with ndim > 0 to a scalar is deprecated, and will error in future. Ensure you extract a single element from your array before performing this operation. (Deprecated NumPy 1.25.)\n",
            "  score = float(loaded_model.predict(pad_new))\n"
          ]
        }
      ],
      "source": [
        "sentiment_predict('The caramel macchiato I had today was absolutely perfect! The staff was so friendly, and the ambiance made it a great spot to catch up on work. I’ll definitely be coming back.')"
      ]
    },
    {
      "cell_type": "code",
      "execution_count": 112,
      "metadata": {
        "colab": {
          "base_uri": "https://localhost:8080/"
        },
        "id": "QnmZ1Ft_BGsP",
        "outputId": "d8595c0f-5fa3-4dc8-c95f-bce83ad40d74"
      },
      "outputs": [
        {
          "output_type": "stream",
          "name": "stdout",
          "text": [
            "\u001b[1m1/1\u001b[0m \u001b[32m━━━━━━━━━━━━━━━━━━━━\u001b[0m\u001b[37m\u001b[0m \u001b[1m0s\u001b[0m 31ms/step\n",
            "98.71% 확률로 부정 리뷰입니다.\n"
          ]
        },
        {
          "output_type": "stream",
          "name": "stderr",
          "text": [
            "<ipython-input-58-8e434bcc36b4>:10: DeprecationWarning: Conversion of an array with ndim > 0 to a scalar is deprecated, and will error in future. Ensure you extract a single element from your array before performing this operation. (Deprecated NumPy 1.25.)\n",
            "  score = float(loaded_model.predict(pad_new))\n"
          ]
        }
      ],
      "source": [
        "sentiment_predict('My recent visit was quite disappointing. The coffee I ordered took too long to be served, and the taste was different from usual. While the staff seemed busy, the service felt lacking. The store was too noisy, and it was hard to find a seat, making it difficult to enjoy my time there.These are example reviews and can be adjusted further if needed!')"
      ]
    }
  ]
}